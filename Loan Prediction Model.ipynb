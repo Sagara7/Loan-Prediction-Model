{
 "cells": [
  {
   "cell_type": "markdown",
   "metadata": {},
   "source": [
    "**Link URL Hugging Face: https://huggingface.co/spaces/Sagara7/Milestone_2**"
   ]
  },
  {
   "cell_type": "markdown",
   "metadata": {},
   "source": [
    "## I. Introduction"
   ]
  },
  {
   "cell_type": "markdown",
   "metadata": {},
   "source": [
    "### ___________________________________________________________________________________________________________________________________________\n",
    "\n",
    "### Nama: Sagara Biru Wilantara\n",
    "\n",
    "### Batch: HCK-007\n",
    "\n",
    "### Phase 1 Milestone 2\n",
    "\n",
    "##### Membuat model yang bisa melakukan prediksi terhadap kelayakan user dalam meminjam uang berdasarkan detail user tersebut saat mengisi formulir aplikasi online.\n",
    "\n",
    "### ___________________________________________________________________________________________________________________________________________"
   ]
  },
  {
   "cell_type": "markdown",
   "metadata": {},
   "source": [
    "`Problem Statement`: Menemukan model terbaik untuk mengetahui kelayakan pinjaman berdasarkan data user serta mengurangi resiko kredit dalam waktu enam bulan."
   ]
  },
  {
   "cell_type": "markdown",
   "metadata": {},
   "source": [
    "`Latar Belakang`: Sebuah lembaga keuangan telah mengumpulkan data mengenai pengajuan pinjaman dari berbagai pemohon. Data ini mencakup informasi yang sangat beragam tentang pemohon pinjaman, seperti jenis kelamin, status pernikahan, pendidikan, pekerjaan, pendapatan, jumlah tanggungan, jumlah pinjaman yang diminta, jangka waktu pinjaman, catatan kredit, lokasi properti, dan status persetujuan pinjaman. Lembaga keuangan ini telah mengumpulkan data ini selama beberapa waktu dan sekarang ingin menggunakan data ini untuk melakukan analisis guna memahami faktor-faktor apa yang mempengaruhi keputusan persetujuan pinjaman.\n",
    "\n",
    "`Objective`: Tujuan dari analisis ini adalah untuk membantu lembaga keuangan dalam membuat keputusan yang lebih baik dalam proses persetujuan pinjaman dengan membuat model terbaik yang bisa memprediksi apakah seorang pemohon disetujui atau tidak untuk melakukan pinjaman."
   ]
  },
  {
   "cell_type": "markdown",
   "metadata": {},
   "source": [
    "Berikut merupakan penjelasan mengenai masing-masing kolom:\n",
    "\n",
    "- `Loan_ID`           : Merupakan kolom yang berisi ID unik untuk setiap pinjaman. ID ini digunakan untuk mengidentifikasi setiap pinjaman secara unik.\n",
    "- `Gender`            : Merupakan kolom yang mencatat jenis kelamin (gender) dari user, yang berisikan nilai \"Male\" (Laki-laki) dan \"Female\" (Perempuan).\n",
    "- `Married`           : Merupakan kolom yang mencatat status pernikahan user, yang dapat berisi \"Yes\" (Sudah Menikah) dan \"No\" (Belum Menikah).\n",
    "- `Dependents`        : Merupakan kolom yang mencatat jumlah tanggungan yang dimiliki oleh user. Berupa angka, \"0\" (Tidak ada tanggungan), \"1\" (Satu tanggungan), \"2\" (Dua tanggungan), dan seterusnya.\n",
    "- `Education`         : Merupakan kolom yang mencatat tingkat pendidikan dari user, yang berisikan \"Graduate\" (Lulusan) dan \"Not Graduate\" (Tidak lulus).\n",
    "- `Self_Employed`     : Merupakan kolom yang mencatat apakah user memiliki perkerjaan atau tidak. Nilai dalam kolom ini berupa \"Yes\" (Ya) dan \"No\" (Tidak).\n",
    "- `ApplicantIncome`   : Merupakan kolom yang mencatat pendapatan user.\n",
    "- `CoapplicantIncome` : Merupakan kolom yang mencatat pendapatan lain dari user jika ada.\n",
    "- `LoanAmount`        : Merupakan kolom yang mencatat jumlah pinjaman yang diminta oleh user.\n",
    "- `Loan_Amount_Term`  : Merupakan kolom yang mencatat jangka waktu pinjaman dalam bulan, menunjukkan berapa lama pinjaman akan diberikan.\n",
    "- `Credit_History`    : Merupakan kolom yang mencatat apakah catatan kredit pemohon memenuhi pedoman yang ditetapkan.\n",
    "- `Property_Area`    : Merupakan kolom yang mencatat lokasi properti pemohon, yang dapat berisi \"Rural\" (Pedesaan), \"Semi Urban\" (Semi Perkotaan), dan \"Urban\" (Perkotaan).\n",
    "- `Loan_Status`       : Merupakan kolom yang mencatat apakah pinjaman disetujui atau tidak. Nilai dalam kolom ini bisa berupa \"Y\" (Disetujui) atau \"N\" (Tidak Disetujui)."
   ]
  },
  {
   "cell_type": "markdown",
   "metadata": {},
   "source": [
    "### Conceptual Problems:"
   ]
  },
  {
   "cell_type": "markdown",
   "metadata": {},
   "source": [
    "Jawab pertanyaan berikut:\n",
    "\n",
    "1. Jelaskan latar belakang adanya bagging dan cara kerja bagging !\n",
    "\n",
    "2. Jelaskan perbedaan cara kerja algoritma Random Forest dengan algoritma boosting yang Anda pilih !\n",
    "\n",
    "3. Jelaskan apa yang dimaksud dengan Cross Validation !"
   ]
  },
  {
   "cell_type": "markdown",
   "metadata": {},
   "source": [
    "Jawab:\n",
    "\n",
    "`1.` \n",
    "Latar Belakang: Bagging adalah salah satu teknik ensamble dalam machine learning yang digunakan untuk meningkatkan kinerja model prediktif dengan menggabungkan beberapa model yang dibangun dari dataset yang sama. Dalam machine learning, model-model kompleks seperti Decision Tree cenderung overfitting, dimana model tersebut cenderung mengikuti noise atau variabilitas acak dalam data pelatihan. Ini dapat mengakibatkan kinerja yang buruk pada data uji atau data baru. Bagging bertujuan untuk mengurangi variabilitas ini dengan memanfaatkan konsep bootstrap. Bootstrap adalah teknik pengambilan sampel dengan penggantian dari dataset pelatihan yang ada. Ini menghasilkan dataset tambahan yang memiliki variasi yang sedikit berbeda.\n",
    "\n",
    "Cara Kerja: Dalam setiap iterasi bagging, dataset pelatihan asli diambil sampel secara acak dengan penggantian. Ini berarti beberapa sampel dapat muncul lebih dari satu kali, sementara yang lainnya mungkin tidak muncul sama sekali. Hasilnya adalah dataset subsampling yang berukuran sama dengan dataset pelatihan asli, tetapi dengan variasi.\n",
    "\n",
    "`2.` Perbedaan antara Random Forest dan AdaBoost\n",
    "\n",
    "Random Forest:\n",
    "\n",
    "- Random Forest adalah ensamble yang menggunakan sejumlah besar Decision Tree yang dibangun secara independen. Setiap pohon keputusan dibangun dengan mengambil sampel acak dari dataset pelatihan dengan penggantian (bootstrap) dan menggunakan subfitur acak dalam proses pembangunan. Hal tersebut memungkinkan pohon-pohon tersebut untuk dibangun secara paralel, yang menjadikan Random Forest efisien dalam hal komputasi. \n",
    "- Setiap pohon dalam Random Forest menggunakan hanya sebagian kecil fitur yang ada saat membuat split decision. Ini membantu mencegah pohon dari overfitting ke dataset pelatihan.\n",
    "- Hasil prediksi dari setiap Decision Tree dalam Random Forest digunakan untuk membuat prediksi akhir dengan cara mayoritas (mode untuk masalah klasifikasi) atau rata-rata (untuk masalah regresi).\n",
    "\n",
    "AdaBoost:\n",
    "\n",
    "- AdaBoost bekerja secara sekuensial dengan membangun serangkaian model keputusan yang masing-masing fokus pada mengoreksi kesalahan dari model sebelumnya. Pada setiap iterasi, sampel yang salah dikelasifikasikan oleh model sebelumnya diberi bobot yang lebih tinggi, sehingga model berikutnya lebih fokus pada sampel-sampel tersebut.\n",
    "- AdaBoost tidak mempengaruhi pemilihan fitur sebanyak Random Forest. Ini berfokus pada perubahan bobot sampel untuk meningkatkan performa model.\n",
    "- Prediksi akhir dalam AdaBoost dihasilkan dengan memberikan bobot pada hasil prediksi setiap model sepanjang iterasi, dan kemudian hasil akhir adalah hasil dari agregasi berdasarkan bobot ini.\n",
    "\n",
    "`3.` Cross-Validation merupakan teknik penting dalam machine learning yang digunakan untuk mengukur kinerja model secara objektif dan menghindari overfitting atau underfitting. Metode ini adalah metode yang umum digunakan untuk membagi dataset menjadi subset pelatihan dan pengujian yang saling bergantian untuk menguji seberapa baik model bekerja. Tujuan dari penggunaan metode ini adalah untuk mendapatkan perkiraan yang lebih akurat tentang seberapa baik model akan perform pada data yang belum pernah dilihat sebelumnya."
   ]
  },
  {
   "cell_type": "markdown",
   "metadata": {},
   "source": [
    "## II. Import Library"
   ]
  },
  {
   "cell_type": "code",
   "execution_count": 2,
   "metadata": {},
   "outputs": [],
   "source": [
    "import pandas as pd\n",
    "import numpy as np\n",
    "import seaborn as sns\n",
    "import matplotlib.pyplot as plt\n",
    "import pickle\n",
    "from scipy import stats\n",
    "from scipy.stats import kendalltau\n",
    "from scipy.stats import skew\n",
    "\n",
    "from sklearn.model_selection import train_test_split\n",
    "from sklearn.preprocessing import OneHotEncoder, OrdinalEncoder\n",
    "from sklearn.preprocessing import StandardScaler\n",
    "from sklearn.preprocessing import MinMaxScaler\n",
    "from feature_engine.outliers import Winsorizer , OutlierTrimmer\n",
    "from sklearn.impute import SimpleImputer\n",
    "from sklearn.pipeline import Pipeline\n",
    "from sklearn.compose import ColumnTransformer\n",
    "from sklearn.neighbors import KNeighborsClassifier\n",
    "from sklearn.svm import SVC\n",
    "from sklearn.tree import DecisionTreeClassifier\n",
    "from sklearn.ensemble import RandomForestClassifier\n",
    "from imblearn.over_sampling import SMOTENC\n",
    "\n",
    "from sklearn.model_selection import RandomizedSearchCV\n",
    "from sklearn.model_selection import cross_val_score\n",
    "\n",
    "from sklearn.ensemble import AdaBoostClassifier\n",
    "from sklearn.metrics import classification_report,accuracy_score,confusion_matrix,ConfusionMatrixDisplay\n",
    "from sklearn.metrics import classification_report, confusion_matrix, ConfusionMatrixDisplay, f1_score, accuracy_score, precision_score, recall_score\n",
    "\n",
    "import warnings\n",
    "warnings.filterwarnings('ignore')"
   ]
  },
  {
   "cell_type": "markdown",
   "metadata": {},
   "source": [
    "## III. Data Loading"
   ]
  },
  {
   "cell_type": "code",
   "execution_count": 18,
   "metadata": {},
   "outputs": [
    {
     "data": {
      "text/html": [
       "<div>\n",
       "<style scoped>\n",
       "    .dataframe tbody tr th:only-of-type {\n",
       "        vertical-align: middle;\n",
       "    }\n",
       "\n",
       "    .dataframe tbody tr th {\n",
       "        vertical-align: top;\n",
       "    }\n",
       "\n",
       "    .dataframe thead th {\n",
       "        text-align: right;\n",
       "    }\n",
       "</style>\n",
       "<table border=\"1\" class=\"dataframe\">\n",
       "  <thead>\n",
       "    <tr style=\"text-align: right;\">\n",
       "      <th></th>\n",
       "      <th>Loan_ID</th>\n",
       "      <th>Gender</th>\n",
       "      <th>Married</th>\n",
       "      <th>Dependents</th>\n",
       "      <th>Education</th>\n",
       "      <th>Self_Employed</th>\n",
       "      <th>ApplicantIncome</th>\n",
       "      <th>CoapplicantIncome</th>\n",
       "      <th>LoanAmount</th>\n",
       "      <th>Loan_Amount_Term</th>\n",
       "      <th>Credit_History</th>\n",
       "      <th>Property_Area</th>\n",
       "      <th>Loan_Status</th>\n",
       "    </tr>\n",
       "  </thead>\n",
       "  <tbody>\n",
       "    <tr>\n",
       "      <th>0</th>\n",
       "      <td>LP001002</td>\n",
       "      <td>Male</td>\n",
       "      <td>No</td>\n",
       "      <td>0</td>\n",
       "      <td>Graduate</td>\n",
       "      <td>No</td>\n",
       "      <td>5849</td>\n",
       "      <td>0.0</td>\n",
       "      <td>NaN</td>\n",
       "      <td>360.0</td>\n",
       "      <td>1.0</td>\n",
       "      <td>Urban</td>\n",
       "      <td>Y</td>\n",
       "    </tr>\n",
       "    <tr>\n",
       "      <th>1</th>\n",
       "      <td>LP001003</td>\n",
       "      <td>Male</td>\n",
       "      <td>Yes</td>\n",
       "      <td>1</td>\n",
       "      <td>Graduate</td>\n",
       "      <td>No</td>\n",
       "      <td>4583</td>\n",
       "      <td>1508.0</td>\n",
       "      <td>128.0</td>\n",
       "      <td>360.0</td>\n",
       "      <td>1.0</td>\n",
       "      <td>Rural</td>\n",
       "      <td>N</td>\n",
       "    </tr>\n",
       "    <tr>\n",
       "      <th>2</th>\n",
       "      <td>LP001005</td>\n",
       "      <td>Male</td>\n",
       "      <td>Yes</td>\n",
       "      <td>0</td>\n",
       "      <td>Graduate</td>\n",
       "      <td>Yes</td>\n",
       "      <td>3000</td>\n",
       "      <td>0.0</td>\n",
       "      <td>66.0</td>\n",
       "      <td>360.0</td>\n",
       "      <td>1.0</td>\n",
       "      <td>Urban</td>\n",
       "      <td>Y</td>\n",
       "    </tr>\n",
       "    <tr>\n",
       "      <th>3</th>\n",
       "      <td>LP001006</td>\n",
       "      <td>Male</td>\n",
       "      <td>Yes</td>\n",
       "      <td>0</td>\n",
       "      <td>Not Graduate</td>\n",
       "      <td>No</td>\n",
       "      <td>2583</td>\n",
       "      <td>2358.0</td>\n",
       "      <td>120.0</td>\n",
       "      <td>360.0</td>\n",
       "      <td>1.0</td>\n",
       "      <td>Urban</td>\n",
       "      <td>Y</td>\n",
       "    </tr>\n",
       "    <tr>\n",
       "      <th>4</th>\n",
       "      <td>LP001008</td>\n",
       "      <td>Male</td>\n",
       "      <td>No</td>\n",
       "      <td>0</td>\n",
       "      <td>Graduate</td>\n",
       "      <td>No</td>\n",
       "      <td>6000</td>\n",
       "      <td>0.0</td>\n",
       "      <td>141.0</td>\n",
       "      <td>360.0</td>\n",
       "      <td>1.0</td>\n",
       "      <td>Urban</td>\n",
       "      <td>Y</td>\n",
       "    </tr>\n",
       "    <tr>\n",
       "      <th>...</th>\n",
       "      <td>...</td>\n",
       "      <td>...</td>\n",
       "      <td>...</td>\n",
       "      <td>...</td>\n",
       "      <td>...</td>\n",
       "      <td>...</td>\n",
       "      <td>...</td>\n",
       "      <td>...</td>\n",
       "      <td>...</td>\n",
       "      <td>...</td>\n",
       "      <td>...</td>\n",
       "      <td>...</td>\n",
       "      <td>...</td>\n",
       "    </tr>\n",
       "    <tr>\n",
       "      <th>609</th>\n",
       "      <td>LP002978</td>\n",
       "      <td>Female</td>\n",
       "      <td>No</td>\n",
       "      <td>0</td>\n",
       "      <td>Graduate</td>\n",
       "      <td>No</td>\n",
       "      <td>2900</td>\n",
       "      <td>0.0</td>\n",
       "      <td>71.0</td>\n",
       "      <td>360.0</td>\n",
       "      <td>1.0</td>\n",
       "      <td>Rural</td>\n",
       "      <td>Y</td>\n",
       "    </tr>\n",
       "    <tr>\n",
       "      <th>610</th>\n",
       "      <td>LP002979</td>\n",
       "      <td>Male</td>\n",
       "      <td>Yes</td>\n",
       "      <td>3+</td>\n",
       "      <td>Graduate</td>\n",
       "      <td>No</td>\n",
       "      <td>4106</td>\n",
       "      <td>0.0</td>\n",
       "      <td>40.0</td>\n",
       "      <td>180.0</td>\n",
       "      <td>1.0</td>\n",
       "      <td>Rural</td>\n",
       "      <td>Y</td>\n",
       "    </tr>\n",
       "    <tr>\n",
       "      <th>611</th>\n",
       "      <td>LP002983</td>\n",
       "      <td>Male</td>\n",
       "      <td>Yes</td>\n",
       "      <td>1</td>\n",
       "      <td>Graduate</td>\n",
       "      <td>No</td>\n",
       "      <td>8072</td>\n",
       "      <td>240.0</td>\n",
       "      <td>253.0</td>\n",
       "      <td>360.0</td>\n",
       "      <td>1.0</td>\n",
       "      <td>Urban</td>\n",
       "      <td>Y</td>\n",
       "    </tr>\n",
       "    <tr>\n",
       "      <th>612</th>\n",
       "      <td>LP002984</td>\n",
       "      <td>Male</td>\n",
       "      <td>Yes</td>\n",
       "      <td>2</td>\n",
       "      <td>Graduate</td>\n",
       "      <td>No</td>\n",
       "      <td>7583</td>\n",
       "      <td>0.0</td>\n",
       "      <td>187.0</td>\n",
       "      <td>360.0</td>\n",
       "      <td>1.0</td>\n",
       "      <td>Urban</td>\n",
       "      <td>Y</td>\n",
       "    </tr>\n",
       "    <tr>\n",
       "      <th>613</th>\n",
       "      <td>LP002990</td>\n",
       "      <td>Female</td>\n",
       "      <td>No</td>\n",
       "      <td>0</td>\n",
       "      <td>Graduate</td>\n",
       "      <td>Yes</td>\n",
       "      <td>4583</td>\n",
       "      <td>0.0</td>\n",
       "      <td>133.0</td>\n",
       "      <td>360.0</td>\n",
       "      <td>0.0</td>\n",
       "      <td>Semiurban</td>\n",
       "      <td>N</td>\n",
       "    </tr>\n",
       "  </tbody>\n",
       "</table>\n",
       "<p>614 rows × 13 columns</p>\n",
       "</div>"
      ],
      "text/plain": [
       "      Loan_ID  Gender Married Dependents     Education Self_Employed  \\\n",
       "0    LP001002    Male      No          0      Graduate            No   \n",
       "1    LP001003    Male     Yes          1      Graduate            No   \n",
       "2    LP001005    Male     Yes          0      Graduate           Yes   \n",
       "3    LP001006    Male     Yes          0  Not Graduate            No   \n",
       "4    LP001008    Male      No          0      Graduate            No   \n",
       "..        ...     ...     ...        ...           ...           ...   \n",
       "609  LP002978  Female      No          0      Graduate            No   \n",
       "610  LP002979    Male     Yes         3+      Graduate            No   \n",
       "611  LP002983    Male     Yes          1      Graduate            No   \n",
       "612  LP002984    Male     Yes          2      Graduate            No   \n",
       "613  LP002990  Female      No          0      Graduate           Yes   \n",
       "\n",
       "     ApplicantIncome  CoapplicantIncome  LoanAmount  Loan_Amount_Term  \\\n",
       "0               5849                0.0         NaN             360.0   \n",
       "1               4583             1508.0       128.0             360.0   \n",
       "2               3000                0.0        66.0             360.0   \n",
       "3               2583             2358.0       120.0             360.0   \n",
       "4               6000                0.0       141.0             360.0   \n",
       "..               ...                ...         ...               ...   \n",
       "609             2900                0.0        71.0             360.0   \n",
       "610             4106                0.0        40.0             180.0   \n",
       "611             8072              240.0       253.0             360.0   \n",
       "612             7583                0.0       187.0             360.0   \n",
       "613             4583                0.0       133.0             360.0   \n",
       "\n",
       "     Credit_History Property_Area Loan_Status  \n",
       "0               1.0         Urban           Y  \n",
       "1               1.0         Rural           N  \n",
       "2               1.0         Urban           Y  \n",
       "3               1.0         Urban           Y  \n",
       "4               1.0         Urban           Y  \n",
       "..              ...           ...         ...  \n",
       "609             1.0         Rural           Y  \n",
       "610             1.0         Rural           Y  \n",
       "611             1.0         Urban           Y  \n",
       "612             1.0         Urban           Y  \n",
       "613             0.0     Semiurban           N  \n",
       "\n",
       "[614 rows x 13 columns]"
      ]
     },
     "execution_count": 18,
     "metadata": {},
     "output_type": "execute_result"
    }
   ],
   "source": [
    "# Menginput dataset yang digunakan\n",
    "df = pd.read_csv('loan_predication.csv')\n",
    "df"
   ]
  },
  {
   "cell_type": "code",
   "execution_count": 20,
   "metadata": {},
   "outputs": [
    {
     "name": "stdout",
     "output_type": "stream",
     "text": [
      "<class 'pandas.core.frame.DataFrame'>\n",
      "RangeIndex: 614 entries, 0 to 613\n",
      "Data columns (total 13 columns):\n",
      " #   Column             Non-Null Count  Dtype  \n",
      "---  ------             --------------  -----  \n",
      " 0   Loan_ID            614 non-null    object \n",
      " 1   Gender             601 non-null    object \n",
      " 2   Married            611 non-null    object \n",
      " 3   Dependents         599 non-null    object \n",
      " 4   Education          614 non-null    object \n",
      " 5   Self_Employed      582 non-null    object \n",
      " 6   ApplicantIncome    614 non-null    int64  \n",
      " 7   CoapplicantIncome  614 non-null    float64\n",
      " 8   LoanAmount         592 non-null    float64\n",
      " 9   Loan_Amount_Term   600 non-null    float64\n",
      " 10  Credit_History     564 non-null    float64\n",
      " 11  Property_Area      614 non-null    object \n",
      " 12  Loan_Status        614 non-null    object \n",
      "dtypes: float64(4), int64(1), object(8)\n",
      "memory usage: 62.5+ KB\n"
     ]
    }
   ],
   "source": [
    "# Mengecek informasi yang terdapat pada data\n",
    "df.info()"
   ]
  },
  {
   "cell_type": "markdown",
   "metadata": {},
   "source": [
    "Dari pengecekan informasi pada data, berikut informasi yang didapatkan:\n",
    "- Data terdiri dari 13 kolom serta 614 baris.\n",
    "- Mengubah data type pada kolom Dependents menjadi integer.\n",
    "- Terdapat missing value karena jumlah non-null dari beberapa fitur berbeda.\n",
    "- Tipe data dari masing-masing fitur akan ditinjau kembali."
   ]
  },
  {
   "cell_type": "code",
   "execution_count": 4,
   "metadata": {},
   "outputs": [
    {
     "data": {
      "text/plain": [
       "(0, 13)"
      ]
     },
     "execution_count": 4,
     "metadata": {},
     "output_type": "execute_result"
    }
   ],
   "source": [
    "# Mengecek apakah ada duplikasi pada data\n",
    "df[df.duplicated()].shape"
   ]
  },
  {
   "cell_type": "markdown",
   "metadata": {},
   "source": [
    "Tidak ada duplikasi pada data yang digunakan."
   ]
  },
  {
   "cell_type": "code",
   "execution_count": 21,
   "metadata": {},
   "outputs": [
    {
     "data": {
      "text/plain": [
       "Loan_ID               0\n",
       "Gender               13\n",
       "Married               3\n",
       "Dependents           15\n",
       "Education             0\n",
       "Self_Employed        32\n",
       "ApplicantIncome       0\n",
       "CoapplicantIncome     0\n",
       "LoanAmount           22\n",
       "Loan_Amount_Term     14\n",
       "Credit_History       50\n",
       "Property_Area         0\n",
       "Loan_Status           0\n",
       "dtype: int64"
      ]
     },
     "execution_count": 21,
     "metadata": {},
     "output_type": "execute_result"
    }
   ],
   "source": [
    "# Menampilkan jumlah missing value dari masing - masing kolom\n",
    "df.isnull().sum()"
   ]
  },
  {
   "cell_type": "markdown",
   "metadata": {},
   "source": [
    "Terdapat beberapa missing value dari masing-masing fitur. Akan dilihat persentase missing value terhadap data untuk mengetahui apakah missing value tersebut bisa di drop atau tidak. Jika persentase missing value berada dibawah 5% maka missing value akan di drop."
   ]
  },
  {
   "cell_type": "code",
   "execution_count": 6,
   "metadata": {},
   "outputs": [
    {
     "data": {
      "text/plain": [
       "Loan_ID              0.000000\n",
       "Gender               2.117264\n",
       "Married              0.488599\n",
       "Dependents           2.442997\n",
       "Education            0.000000\n",
       "Self_Employed        5.211726\n",
       "ApplicantIncome      0.000000\n",
       "CoapplicantIncome    0.000000\n",
       "LoanAmount           3.583062\n",
       "Loan_Amount_Term     2.280130\n",
       "Credit_History       8.143322\n",
       "Property_Area        0.000000\n",
       "Loan_Status          0.000000\n",
       "dtype: float64"
      ]
     },
     "execution_count": 6,
     "metadata": {},
     "output_type": "execute_result"
    }
   ],
   "source": [
    "# Melihat persentase missing value dari masing - masing kolom\n",
    "df.isnull().sum()*100/len(df)"
   ]
  },
  {
   "cell_type": "markdown",
   "metadata": {},
   "source": [
    "Karena terdapat fitur yang memiliki missing value lebih dari 5%, maka missing value tidak akan di drop dan akan digunakan simple imputer ketika data sudah di split."
   ]
  },
  {
   "cell_type": "code",
   "execution_count": 7,
   "metadata": {},
   "outputs": [
    {
     "data": {
      "text/plain": [
       "Loan_ID              614\n",
       "Gender                 2\n",
       "Married                2\n",
       "Dependents             4\n",
       "Education              2\n",
       "Self_Employed          2\n",
       "ApplicantIncome      505\n",
       "CoapplicantIncome    287\n",
       "LoanAmount           203\n",
       "Loan_Amount_Term      10\n",
       "Credit_History         2\n",
       "Property_Area          3\n",
       "Loan_Status            2\n",
       "dtype: int64"
      ]
     },
     "execution_count": 7,
     "metadata": {},
     "output_type": "execute_result"
    }
   ],
   "source": [
    "# Melihat jumlah nilai unik dari masing - masing kolom\n",
    "df.nunique()"
   ]
  },
  {
   "cell_type": "markdown",
   "metadata": {},
   "source": [
    "Jumlah nilai unik pada kolom Loan_ID terlalu bervariasi dan tidak memiliki karakteristik, sehingga kolom tersebut akan di drop."
   ]
  },
  {
   "cell_type": "code",
   "execution_count": 8,
   "metadata": {},
   "outputs": [
    {
     "data": {
      "text/plain": [
       "array(['0', '1', '2', '3+', nan], dtype=object)"
      ]
     },
     "execution_count": 8,
     "metadata": {},
     "output_type": "execute_result"
    }
   ],
   "source": [
    "# Melihat nilai unik dari kolom Dependents\n",
    "df['Dependents'].unique()"
   ]
  },
  {
   "cell_type": "markdown",
   "metadata": {},
   "source": [
    "Kolom jumlah tanggungan memiliki tiga buah nilai unik. 3+ menandakan bahwa jumlah tanggungan bisa 3 atau lebih. Masuk ke dalam kolom kategorikal."
   ]
  },
  {
   "cell_type": "code",
   "execution_count": 9,
   "metadata": {},
   "outputs": [
    {
     "data": {
      "text/plain": [
       "array([360., 120., 240.,  nan, 180.,  60., 300., 480.,  36.,  84.,  12.])"
      ]
     },
     "execution_count": 9,
     "metadata": {},
     "output_type": "execute_result"
    }
   ],
   "source": [
    "# Melihat nilai unik dari kolom Loan_Amount_Term\n",
    "df['Loan_Amount_Term'].unique()"
   ]
  },
  {
   "cell_type": "markdown",
   "metadata": {},
   "source": [
    "Kolom jangka waktu pinjaman merupakan kolom kategorikal karena memiliki nilai unik yang sedikit."
   ]
  },
  {
   "cell_type": "code",
   "execution_count": 10,
   "metadata": {},
   "outputs": [
    {
     "data": {
      "text/plain": [
       "array(['Urban', 'Rural', 'Semiurban'], dtype=object)"
      ]
     },
     "execution_count": 10,
     "metadata": {},
     "output_type": "execute_result"
    }
   ],
   "source": [
    "# Melihat nilai unik dari kolom Property_Area\n",
    "df['Property_Area'].unique()"
   ]
  },
  {
   "cell_type": "markdown",
   "metadata": {},
   "source": [
    "Area property terdiri dari 3 area, yaitu Rural (Pedesaan), Semi Urban (Semi Perkotaan), dan Urban (Perkotaan). Akan dilihat apakah status pinjaman user memiliki perbedaan yang signifikan jika dilihat dari area tempat tinggal mereka. Jika tidak ada perbedaan signifikan, maka dipastikan bahwa kolom area property bukan sebuah kolom ordinal. `Pengaruh antara property area terhadap loan status akan dilihat pada proses EDA.`"
   ]
  },
  {
   "cell_type": "code",
   "execution_count": 11,
   "metadata": {},
   "outputs": [
    {
     "data": {
      "text/plain": [
       "Index(['Loan_ID', 'Gender', 'Married', 'Dependents', 'Education',\n",
       "       'Self_Employed', 'ApplicantIncome', 'CoapplicantIncome', 'LoanAmount',\n",
       "       'Loan_Amount_Term', 'Credit_History', 'Property_Area', 'Loan_Status'],\n",
       "      dtype='object')"
      ]
     },
     "execution_count": 11,
     "metadata": {},
     "output_type": "execute_result"
    }
   ],
   "source": [
    "# Melihat apakah ada white space\n",
    "df.columns"
   ]
  },
  {
   "cell_type": "markdown",
   "metadata": {},
   "source": [
    "Tidak ada white space."
   ]
  },
  {
   "cell_type": "markdown",
   "metadata": {},
   "source": [
    "Setelah melakukan overview, berikut ringkasan nya:\n",
    "- Loan_ID akan di drop karena terlalu bervariasi dan tidak memiliki karakteristik.\n",
    "- Tidak ada duplikasi pada data yang digunakan.\n",
    "- Missing value tidak akan di drop karena memiliki persentase diatas 5%.\n",
    "- Menggunakan simple imputer untuk mengatasi missing value."
   ]
  },
  {
   "cell_type": "markdown",
   "metadata": {},
   "source": [
    "### Data Cleaning"
   ]
  },
  {
   "cell_type": "code",
   "execution_count": 12,
   "metadata": {},
   "outputs": [],
   "source": [
    "# Menyalin df ke dalam df1\n",
    "df1 = df.copy()"
   ]
  },
  {
   "cell_type": "code",
   "execution_count": 13,
   "metadata": {},
   "outputs": [],
   "source": [
    "# Drop kolom cust_ID\n",
    "df1 = df.drop('Loan_ID', axis=1)"
   ]
  },
  {
   "cell_type": "code",
   "execution_count": 14,
   "metadata": {},
   "outputs": [],
   "source": [
    "# Mengubah kolom kategorikal yang bersifat biner menjadi '0' dan '1'\n",
    "df1['Gender'] = df1['Gender'].replace({'Male': 1, 'Female': 0})\n",
    "df1['Married'] = df1['Married'].replace({'Yes': 1, 'No': 0})\n",
    "df1['Education'] = df1['Education'].replace({'Graduate': 1, 'Not Graduate': 0})\n",
    "df1['Self_Employed'] = df1['Self_Employed'].replace({'Yes': 1, 'No': 0})\n",
    "df1['Loan_Status'] = df1['Loan_Status'].replace({'Y': 1, 'N': 0})"
   ]
  },
  {
   "cell_type": "markdown",
   "metadata": {},
   "source": [
    "Proses ini dilakukan agar mempermudah saat proses training serta pemasukkan data ke dalam pipeline. Seluruh kolom yang bersifat biner diubah ke dalam bilangan 0 dan 1."
   ]
  },
  {
   "cell_type": "code",
   "execution_count": 15,
   "metadata": {},
   "outputs": [
    {
     "data": {
      "text/html": [
       "<div>\n",
       "<style scoped>\n",
       "    .dataframe tbody tr th:only-of-type {\n",
       "        vertical-align: middle;\n",
       "    }\n",
       "\n",
       "    .dataframe tbody tr th {\n",
       "        vertical-align: top;\n",
       "    }\n",
       "\n",
       "    .dataframe thead th {\n",
       "        text-align: right;\n",
       "    }\n",
       "</style>\n",
       "<table border=\"1\" class=\"dataframe\">\n",
       "  <thead>\n",
       "    <tr style=\"text-align: right;\">\n",
       "      <th></th>\n",
       "      <th>Gender</th>\n",
       "      <th>Married</th>\n",
       "      <th>Dependents</th>\n",
       "      <th>Education</th>\n",
       "      <th>Self_Employed</th>\n",
       "      <th>ApplicantIncome</th>\n",
       "      <th>CoapplicantIncome</th>\n",
       "      <th>LoanAmount</th>\n",
       "      <th>Loan_Amount_Term</th>\n",
       "      <th>Credit_History</th>\n",
       "      <th>Property_Area</th>\n",
       "      <th>Loan_Status</th>\n",
       "    </tr>\n",
       "  </thead>\n",
       "  <tbody>\n",
       "    <tr>\n",
       "      <th>0</th>\n",
       "      <td>1.0</td>\n",
       "      <td>0.0</td>\n",
       "      <td>0</td>\n",
       "      <td>1</td>\n",
       "      <td>0.0</td>\n",
       "      <td>5849</td>\n",
       "      <td>0.0</td>\n",
       "      <td>NaN</td>\n",
       "      <td>360.0</td>\n",
       "      <td>1.0</td>\n",
       "      <td>Urban</td>\n",
       "      <td>1</td>\n",
       "    </tr>\n",
       "    <tr>\n",
       "      <th>1</th>\n",
       "      <td>1.0</td>\n",
       "      <td>1.0</td>\n",
       "      <td>1</td>\n",
       "      <td>1</td>\n",
       "      <td>0.0</td>\n",
       "      <td>4583</td>\n",
       "      <td>1508.0</td>\n",
       "      <td>128.0</td>\n",
       "      <td>360.0</td>\n",
       "      <td>1.0</td>\n",
       "      <td>Rural</td>\n",
       "      <td>0</td>\n",
       "    </tr>\n",
       "    <tr>\n",
       "      <th>2</th>\n",
       "      <td>1.0</td>\n",
       "      <td>1.0</td>\n",
       "      <td>0</td>\n",
       "      <td>1</td>\n",
       "      <td>1.0</td>\n",
       "      <td>3000</td>\n",
       "      <td>0.0</td>\n",
       "      <td>66.0</td>\n",
       "      <td>360.0</td>\n",
       "      <td>1.0</td>\n",
       "      <td>Urban</td>\n",
       "      <td>1</td>\n",
       "    </tr>\n",
       "    <tr>\n",
       "      <th>3</th>\n",
       "      <td>1.0</td>\n",
       "      <td>1.0</td>\n",
       "      <td>0</td>\n",
       "      <td>0</td>\n",
       "      <td>0.0</td>\n",
       "      <td>2583</td>\n",
       "      <td>2358.0</td>\n",
       "      <td>120.0</td>\n",
       "      <td>360.0</td>\n",
       "      <td>1.0</td>\n",
       "      <td>Urban</td>\n",
       "      <td>1</td>\n",
       "    </tr>\n",
       "    <tr>\n",
       "      <th>4</th>\n",
       "      <td>1.0</td>\n",
       "      <td>0.0</td>\n",
       "      <td>0</td>\n",
       "      <td>1</td>\n",
       "      <td>0.0</td>\n",
       "      <td>6000</td>\n",
       "      <td>0.0</td>\n",
       "      <td>141.0</td>\n",
       "      <td>360.0</td>\n",
       "      <td>1.0</td>\n",
       "      <td>Urban</td>\n",
       "      <td>1</td>\n",
       "    </tr>\n",
       "    <tr>\n",
       "      <th>5</th>\n",
       "      <td>1.0</td>\n",
       "      <td>1.0</td>\n",
       "      <td>2</td>\n",
       "      <td>1</td>\n",
       "      <td>1.0</td>\n",
       "      <td>5417</td>\n",
       "      <td>4196.0</td>\n",
       "      <td>267.0</td>\n",
       "      <td>360.0</td>\n",
       "      <td>1.0</td>\n",
       "      <td>Urban</td>\n",
       "      <td>1</td>\n",
       "    </tr>\n",
       "    <tr>\n",
       "      <th>6</th>\n",
       "      <td>1.0</td>\n",
       "      <td>1.0</td>\n",
       "      <td>0</td>\n",
       "      <td>0</td>\n",
       "      <td>0.0</td>\n",
       "      <td>2333</td>\n",
       "      <td>1516.0</td>\n",
       "      <td>95.0</td>\n",
       "      <td>360.0</td>\n",
       "      <td>1.0</td>\n",
       "      <td>Urban</td>\n",
       "      <td>1</td>\n",
       "    </tr>\n",
       "    <tr>\n",
       "      <th>7</th>\n",
       "      <td>1.0</td>\n",
       "      <td>1.0</td>\n",
       "      <td>3+</td>\n",
       "      <td>1</td>\n",
       "      <td>0.0</td>\n",
       "      <td>3036</td>\n",
       "      <td>2504.0</td>\n",
       "      <td>158.0</td>\n",
       "      <td>360.0</td>\n",
       "      <td>0.0</td>\n",
       "      <td>Semiurban</td>\n",
       "      <td>0</td>\n",
       "    </tr>\n",
       "    <tr>\n",
       "      <th>8</th>\n",
       "      <td>1.0</td>\n",
       "      <td>1.0</td>\n",
       "      <td>2</td>\n",
       "      <td>1</td>\n",
       "      <td>0.0</td>\n",
       "      <td>4006</td>\n",
       "      <td>1526.0</td>\n",
       "      <td>168.0</td>\n",
       "      <td>360.0</td>\n",
       "      <td>1.0</td>\n",
       "      <td>Urban</td>\n",
       "      <td>1</td>\n",
       "    </tr>\n",
       "    <tr>\n",
       "      <th>9</th>\n",
       "      <td>1.0</td>\n",
       "      <td>1.0</td>\n",
       "      <td>1</td>\n",
       "      <td>1</td>\n",
       "      <td>0.0</td>\n",
       "      <td>12841</td>\n",
       "      <td>10968.0</td>\n",
       "      <td>349.0</td>\n",
       "      <td>360.0</td>\n",
       "      <td>1.0</td>\n",
       "      <td>Semiurban</td>\n",
       "      <td>0</td>\n",
       "    </tr>\n",
       "  </tbody>\n",
       "</table>\n",
       "</div>"
      ],
      "text/plain": [
       "   Gender  Married Dependents  Education  Self_Employed  ApplicantIncome  \\\n",
       "0     1.0      0.0          0          1            0.0             5849   \n",
       "1     1.0      1.0          1          1            0.0             4583   \n",
       "2     1.0      1.0          0          1            1.0             3000   \n",
       "3     1.0      1.0          0          0            0.0             2583   \n",
       "4     1.0      0.0          0          1            0.0             6000   \n",
       "5     1.0      1.0          2          1            1.0             5417   \n",
       "6     1.0      1.0          0          0            0.0             2333   \n",
       "7     1.0      1.0         3+          1            0.0             3036   \n",
       "8     1.0      1.0          2          1            0.0             4006   \n",
       "9     1.0      1.0          1          1            0.0            12841   \n",
       "\n",
       "   CoapplicantIncome  LoanAmount  Loan_Amount_Term  Credit_History  \\\n",
       "0                0.0         NaN             360.0             1.0   \n",
       "1             1508.0       128.0             360.0             1.0   \n",
       "2                0.0        66.0             360.0             1.0   \n",
       "3             2358.0       120.0             360.0             1.0   \n",
       "4                0.0       141.0             360.0             1.0   \n",
       "5             4196.0       267.0             360.0             1.0   \n",
       "6             1516.0        95.0             360.0             1.0   \n",
       "7             2504.0       158.0             360.0             0.0   \n",
       "8             1526.0       168.0             360.0             1.0   \n",
       "9            10968.0       349.0             360.0             1.0   \n",
       "\n",
       "  Property_Area  Loan_Status  \n",
       "0         Urban            1  \n",
       "1         Rural            0  \n",
       "2         Urban            1  \n",
       "3         Urban            1  \n",
       "4         Urban            1  \n",
       "5         Urban            1  \n",
       "6         Urban            1  \n",
       "7     Semiurban            0  \n",
       "8         Urban            1  \n",
       "9     Semiurban            0  "
      ]
     },
     "execution_count": 15,
     "metadata": {},
     "output_type": "execute_result"
    }
   ],
   "source": [
    "# Melihat 10 data teratas\n",
    "df1.head(10)"
   ]
  },
  {
   "cell_type": "markdown",
   "metadata": {},
   "source": [
    "Setelah proses data clean selesai, dilakukan proses Exploratory Data Analysis (EDA)."
   ]
  },
  {
   "cell_type": "markdown",
   "metadata": {},
   "source": [
    "## IV. Exploratory Data Analysis (EDA)"
   ]
  },
  {
   "cell_type": "markdown",
   "metadata": {},
   "source": [
    "### Perbandingan Area terhadap Status Pinjaman"
   ]
  },
  {
   "cell_type": "code",
   "execution_count": 16,
   "metadata": {},
   "outputs": [
    {
     "data": {
      "image/png": "[encoded data removed]",
      "text/plain": [
       "<Figure size 800x600 with 1 Axes>"
      ]
     },
     "metadata": {},
     "output_type": "display_data"
    }
   ],
   "source": [
    "plt.figure(figsize=(8, 6))\n",
    "sns.countplot(x='Loan_Status', hue='Property_Area', data=df)\n",
    "plt.title('Status Pinjaman Setiap Area')\n",
    "plt.xlabel('Loan Status')\n",
    "plt.ylabel('Count')\n",
    "plt.legend(title='Property Area', labels=['Urban', 'Rural', 'Semiurban'])\n",
    "plt.show()"
   ]
  },
  {
   "cell_type": "code",
   "execution_count": 17,
   "metadata": {},
   "outputs": [
    {
     "data": {
      "text/plain": [
       "Property_Area  Loan_Status\n",
       "Rural          Y              110\n",
       "               N               69\n",
       "Semiurban      Y              179\n",
       "               N               54\n",
       "Urban          Y              133\n",
       "               N               69\n",
       "Name: Loan_Status, dtype: int64"
      ]
     },
     "execution_count": 17,
     "metadata": {},
     "output_type": "execute_result"
    }
   ],
   "source": [
    "col_pa = df.groupby('Property_Area')['Loan_Status'].value_counts()\n",
    "col_pa"
   ]
  },
  {
   "cell_type": "markdown",
   "metadata": {},
   "source": [
    "Dari grafik dapat dilihat bahwa user yang berasal dari `pedesaan` memiliki jumlah sebanyak 133 user yang disetujui untuk melakukan pinjaman dan 69 user ditolak. Sedangkan untuk user yang berasal dari `semi perkotaan` memiliki user paling banyak disetujui untuk melakukan pinjaman sebanyak 179 user dan sebanyak 54 user ditolak, paling sedikit dari yang lainnya. User yang berasal dari `perkotaan` terdapat 133 user yang disetujui untuk melakukan pinjaman, dan 69 user ditolak, jumlah yang sama dengan user dari pedesaan. Dikarenakan jumlah user yang meminjam tidak memiliki perbedaan yang signifikan antara pedesaan, semi perkotaan, dan perkotaan maka dapat dipastikan bahwa area property bukan merupakan kolom ordinal, tidak ada urutan antara ketiga tempat asal tersebut."
   ]
  },
  {
   "cell_type": "markdown",
   "metadata": {},
   "source": [
    "### Perbandingan Jenis Kelamin terhadap Status Pinjaman"
   ]
  },
  {
   "cell_type": "code",
   "execution_count": 18,
   "metadata": {},
   "outputs": [
    {
     "data": {
      "image/png": "[encoded data removed]",
      "text/plain": [
       "<Figure size 800x600 with 1 Axes>"
      ]
     },
     "metadata": {},
     "output_type": "display_data"
    }
   ],
   "source": [
    "plt.figure(figsize=(8, 6))\n",
    "sns.countplot(x='Loan_Status', hue='Gender', data=df)\n",
    "plt.title('Status Pinjaman Setiap Jenis Kelamin')\n",
    "plt.xlabel('Loan Status')\n",
    "plt.ylabel('Count')\n",
    "plt.legend(title='Gender', labels=['Male', 'Female'])\n",
    "plt.show()"
   ]
  },
  {
   "cell_type": "code",
   "execution_count": 19,
   "metadata": {},
   "outputs": [
    {
     "data": {
      "text/plain": [
       "Gender  Loan_Status\n",
       "Female  Y               75\n",
       "        N               37\n",
       "Male    Y              339\n",
       "        N              150\n",
       "Name: Loan_Status, dtype: int64"
      ]
     },
     "execution_count": 19,
     "metadata": {},
     "output_type": "execute_result"
    }
   ],
   "source": [
    "col_gd = df.groupby('Gender')['Loan_Status'].value_counts()\n",
    "col_gd"
   ]
  },
  {
   "cell_type": "markdown",
   "metadata": {},
   "source": [
    "Dari grafik yang sudah dibuat, lebih banyak user dengan jenis kelamin laki-laki dibandingkan perempuan yang ingin melakukan pinjaman. User dengan jenis kelamin laki-laki memiliki status pinjaman disetujui sebanyak 339, dan sebanyak 150 user ditolak. Sedangkan pada user perempuan terdapat 75 user disetujui untuk melakukan pinjaman, dan 37 user ditolak."
   ]
  },
  {
   "cell_type": "markdown",
   "metadata": {},
   "source": [
    "### Perbandingan Status Pernikahan terhadap Status Pinjaman"
   ]
  },
  {
   "cell_type": "code",
   "execution_count": 20,
   "metadata": {},
   "outputs": [
    {
     "data": {
      "image/png": "[encoded data removed]",
      "text/plain": [
       "<Figure size 800x600 with 1 Axes>"
      ]
     },
     "metadata": {},
     "output_type": "display_data"
    }
   ],
   "source": [
    "plt.figure(figsize=(8, 6))\n",
    "sns.countplot(x='Loan_Status', hue='Married', data=df)\n",
    "plt.title('Status Pinjaman Setiap Status Pernikahan')\n",
    "plt.xlabel('Loan Status')\n",
    "plt.ylabel('Count')\n",
    "plt.legend(title='Married', labels=['No', 'Yes'])\n",
    "plt.show()"
   ]
  },
  {
   "cell_type": "code",
   "execution_count": 21,
   "metadata": {},
   "outputs": [
    {
     "data": {
      "text/plain": [
       "Married  Loan_Status\n",
       "No       Y              134\n",
       "         N               79\n",
       "Yes      Y              285\n",
       "         N              113\n",
       "Name: Loan_Status, dtype: int64"
      ]
     },
     "execution_count": 21,
     "metadata": {},
     "output_type": "execute_result"
    }
   ],
   "source": [
    "col_m = df.groupby('Married')['Loan_Status'].value_counts()\n",
    "col_m"
   ]
  },
  {
   "cell_type": "markdown",
   "metadata": {},
   "source": [
    "Dari grafik yang sudah dibuat, lebih banyak user yang sudah menikah yang melakukan pinjaman dibandingkan dengan user yang belum pernah menikah. Begitu juga dengan persetujuan meminjam, user yang sudah menikah lebih banyak diseutujui untuk melakukan pinjaman dibandingkan dengan yang belum menikah."
   ]
  },
  {
   "cell_type": "markdown",
   "metadata": {},
   "source": [
    "### Perbandingan Status Pinjaman menurut Edukasi"
   ]
  },
  {
   "cell_type": "code",
   "execution_count": 22,
   "metadata": {},
   "outputs": [
    {
     "data": {
      "image/png": "[encoded data removed]",
      "text/plain": [
       "<Figure size 800x600 with 1 Axes>"
      ]
     },
     "metadata": {},
     "output_type": "display_data"
    }
   ],
   "source": [
    "plt.figure(figsize=(8, 6))\n",
    "sns.countplot(x='Loan_Status', hue='Education', data=df)\n",
    "plt.title('Status Pinjaman menurut Edukasi User')\n",
    "plt.xlabel('Loan Status')\n",
    "plt.ylabel('Count')\n",
    "plt.legend(title='Education', labels=['No', 'Yes'])\n",
    "plt.show()"
   ]
  },
  {
   "cell_type": "code",
   "execution_count": 23,
   "metadata": {},
   "outputs": [
    {
     "data": {
      "text/plain": [
       "Education     Loan_Status\n",
       "Graduate      Y              340\n",
       "              N              140\n",
       "Not Graduate  Y               82\n",
       "              N               52\n",
       "Name: Loan_Status, dtype: int64"
      ]
     },
     "execution_count": 23,
     "metadata": {},
     "output_type": "execute_result"
    }
   ],
   "source": [
    "col_ed = df.groupby('Education')['Loan_Status'].value_counts()\n",
    "col_ed"
   ]
  },
  {
   "cell_type": "markdown",
   "metadata": {},
   "source": [
    "Lebih banyak user yang lulus dari dunia pendidikan dibandingkan dengan yang tidak. Dilihat dari jumlah user yang disetujui melakukan pinjaman juga lebih banyak dari user yang lulus dari dunia pendidikan dibandingkan dengan yang tidak, menandakan bahwa edukasi user memiliki pengaruh yang cukup berarti terhadap persetujuan pinjaman seseorang."
   ]
  },
  {
   "cell_type": "markdown",
   "metadata": {},
   "source": [
    "### Distribusi jumlah peminjaman"
   ]
  },
  {
   "cell_type": "code",
   "execution_count": 24,
   "metadata": {},
   "outputs": [
    {
     "data": {
      "image/png": "[encoded data removed]",
      "text/plain": [
       "<Figure size 640x480 with 1 Axes>"
      ]
     },
     "metadata": {},
     "output_type": "display_data"
    }
   ],
   "source": [
    "sns.histplot(df['LoanAmount'], bins=20, kde=True)\n",
    "plt.xlabel('Loan Amount')\n",
    "plt.ylabel('Frequency')\n",
    "plt.title('Distribution of Loan Amount')\n",
    "plt.show()"
   ]
  },
  {
   "cell_type": "markdown",
   "metadata": {},
   "source": [
    "Dilihat dari data, menurut saya distribusi data tidak normal. Hal ini disebabkan oleh gambar yang terlihat seperti positive skew. Namun selanjutnya akan ditinjau kembali saat preprocessing."
   ]
  },
  {
   "cell_type": "markdown",
   "metadata": {},
   "source": [
    "## V. Feature Engineering"
   ]
  },
  {
   "cell_type": "markdown",
   "metadata": {},
   "source": [
    "Proses feature engineering berisikan proses data split terlebih dahulu. Setelah itu dilakukan handling outlier, capping, handling missing value, dan scaling untuk kolom numerikal. Untuk kolom kategorikal dilakukan handling missing value serta encoding. Setelah seluruh proses tersebut selesai selanjutnya masuk ke proses feature selection, dimana dilakukan seleksi fitur mana saja yang akan digunakan selanjutnya saat pemodelan. Setelah dilakukan seleksi fitur, fitur-fitur yang digunakan tersebut dimasukkan ke dalam pipeline."
   ]
  },
  {
   "cell_type": "code",
   "execution_count": 25,
   "metadata": {},
   "outputs": [],
   "source": [
    "# Pembagian kolom kategorikal dan numerikal\n",
    "cat_col = ['Gender', 'Married', 'Dependents','Education', 'Self_Employed', 'Loan_Amount_Term', 'Credit_History', 'Property_Area']\n",
    "num_col = ['ApplicantIncome', 'CoapplicantIncome', 'LoanAmount']"
   ]
  },
  {
   "cell_type": "markdown",
   "metadata": {},
   "source": [
    "### Data Split"
   ]
  },
  {
   "cell_type": "markdown",
   "metadata": {},
   "source": [
    "Data split dilakukan dengan tujuan untuk memisahkan train dan test agar bisa dilakukan pelatihan pada data."
   ]
  },
  {
   "cell_type": "code",
   "execution_count": 26,
   "metadata": {},
   "outputs": [],
   "source": [
    "# Pemisahan antara Feature dan Target\n",
    "X= df1.drop('Loan_Status', axis=1) # Feature\n",
    "y= df1['Loan_Status'] # Target"
   ]
  },
  {
   "cell_type": "code",
   "execution_count": 27,
   "metadata": {},
   "outputs": [
    {
     "name": "stdout",
     "output_type": "stream",
     "text": [
      "X train:  (491, 11)\n",
      "X test:  (123, 11)\n",
      "y train:  (491,)\n",
      "y test:  (123,)\n"
     ]
    }
   ],
   "source": [
    "# Pemisahan data menjadi data test dan data train\n",
    "X_train, X_test, y_train, y_test = train_test_split(X, y, test_size=0.2, random_state=27, stratify=y)\n",
    "\n",
    "print('X train: ', X_train.shape)\n",
    "print('X test: ', X_test.shape)\n",
    "print('y train: ', y_train.shape)\n",
    "print('y test: ', y_test.shape)"
   ]
  },
  {
   "cell_type": "code",
   "execution_count": 28,
   "metadata": {},
   "outputs": [],
   "source": [
    "# Menyalin X_train ke dalam X_train_eda\n",
    "X_train_eda = X_train.copy()"
   ]
  },
  {
   "cell_type": "markdown",
   "metadata": {},
   "source": [
    "X_train_eda akan digunakan selama proses feature engineering sampai feature selection. X_train baru akan digunakan ketika proses pipeline di bagian preprocessing karena proses pipeline membutuhkan data asli untuk dimasukkan ke pipeline."
   ]
  },
  {
   "cell_type": "code",
   "execution_count": 29,
   "metadata": {},
   "outputs": [],
   "source": [
    "# Pembagian X_train menjadi numerikal dan kategorikal\n",
    "X_train_num = X_train_eda[['ApplicantIncome', 'CoapplicantIncome', 'LoanAmount']]\n",
    "X_train_cat = X_train_eda[['Gender', 'Married', 'Dependents','Education', 'Self_Employed', 'Loan_Amount_Term', 'Credit_History', 'Property_Area']]"
   ]
  },
  {
   "cell_type": "markdown",
   "metadata": {},
   "source": [
    "### Numerical Column"
   ]
  },
  {
   "cell_type": "markdown",
   "metadata": {},
   "source": [
    "Pada sub section ini dilakukan pengolahan pada kolom numerikal seperti missing value handling, outlier handling, serta scaling."
   ]
  },
  {
   "cell_type": "markdown",
   "metadata": {},
   "source": [
    "#### Missing Value Handling"
   ]
  },
  {
   "cell_type": "code",
   "execution_count": 30,
   "metadata": {},
   "outputs": [
    {
     "data": {
      "text/plain": [
       "ApplicantIncome       0\n",
       "CoapplicantIncome     0\n",
       "LoanAmount           20\n",
       "dtype: int64"
      ]
     },
     "execution_count": 30,
     "metadata": {},
     "output_type": "execute_result"
    }
   ],
   "source": [
    "X_train_num.isnull().sum()"
   ]
  },
  {
   "cell_type": "markdown",
   "metadata": {},
   "source": [
    "Pada missing value handling digunakan simple imputer untuk mengolah missing value. Untuk menentukan srategy dalam melakukan missing handling menggunakan simple imputer maka diperlukan untuk mengetahui nilai skewness dari masing-masing kolom. Jika nilai skewness normal, maka menggunakan strategy mean. Jika tidak normal, digunakan strategy median."
   ]
  },
  {
   "cell_type": "code",
   "execution_count": 31,
   "metadata": {},
   "outputs": [
    {
     "name": "stdout",
     "output_type": "stream",
     "text": [
      "Skewness dari ApplicantIncome adalah 6.671491313710199\n",
      "Skewness dari CoapplicantIncome adalah 7.374335528596938\n",
      "Skewness dari LoanAmount adalah 2.610191346443544\n"
     ]
    }
   ],
   "source": [
    "# Mengecek nilai skewness pada kolom yang bersifat numerikal\n",
    "data_num_normal = []\n",
    "data_num_non_normal = []\n",
    "for i in num_col :\n",
    "    skew = X_train_num[i].skew()\n",
    "    if (skew >=0.5) | (skew <=-0.5):\n",
    "        data_num_non_normal.append(i)\n",
    "\n",
    "    elif (skew<0.5) & (skew >=-0.5):\n",
    "        data_num_normal.append(i)\n",
    "\n",
    "    print('Skewness dari', i ,'adalah', skew )"
   ]
  },
  {
   "cell_type": "markdown",
   "metadata": {},
   "source": [
    "Karena nilai skewness berada diatas +0.5 (tidak normal), maka digunakan strategy median pada proses simple imputer."
   ]
  },
  {
   "cell_type": "code",
   "execution_count": 32,
   "metadata": {},
   "outputs": [
    {
     "data": {
      "text/plain": [
       "ApplicantIncome      0\n",
       "CoapplicantIncome    0\n",
       "LoanAmount           0\n",
       "dtype: int64"
      ]
     },
     "execution_count": 32,
     "metadata": {},
     "output_type": "execute_result"
    }
   ],
   "source": [
    "# Simple imputer pada kolom numerical\n",
    "imp_num = SimpleImputer(strategy='median')\n",
    "\n",
    "X_train_eda_num = imp_num.fit_transform(X_train_num)\n",
    "X_train_eda_num = pd.DataFrame(X_train_eda_num , columns=['ApplicantIncome', 'CoapplicantIncome', 'LoanAmount'])\n",
    "X_train_eda_num.isnull().sum()"
   ]
  },
  {
   "cell_type": "markdown",
   "metadata": {},
   "source": [
    "Missing value pada data numerikal sudah tidak ada sehingga sudah bisa dilakukan outlier handling."
   ]
  },
  {
   "cell_type": "markdown",
   "metadata": {},
   "source": [
    "#### Outlier Handling"
   ]
  },
  {
   "cell_type": "markdown",
   "metadata": {},
   "source": [
    "Pertama-tama dilihat dulu persentase dari outlier sehingga bisa ditentukan penanganan outlier yang perlu dilakukan."
   ]
  },
  {
   "cell_type": "code",
   "execution_count": 33,
   "metadata": {},
   "outputs": [
    {
     "name": "stdout",
     "output_type": "stream",
     "text": [
      "Persentase outlier dari ApplicantIncome adalah 5.295315682281059 %\n",
      "Persentase outlier dari CoapplicantIncome adalah 1.0183299389002036 %\n",
      "Persentase outlier dari LoanAmount adalah 3.054989816700611 %\n"
     ]
    }
   ],
   "source": [
    "# Melihat persentase outlier pada data X_train_eda_num\n",
    "for i in num_col:\n",
    "    skew = X_train_eda_num[i].skew()\n",
    "    if skew >0.5 and skew <= 1:\n",
    "\n",
    "        q1 = X_train_eda_num[i].quantile(0.25)\n",
    "        q3 = X_train_eda_num[i].quantile(0.75)\n",
    "        iqr = q3-q1\n",
    "\n",
    "        upper_boundary = q3 + (1.5*iqr)\n",
    "        lower_boundary = q1 - (1.5*iqr)\n",
    "\n",
    "    elif skew >1 :\n",
    "\n",
    "        q1 = X_train_eda_num[i].quantile(0.25)\n",
    "        q3 = X_train_eda_num[i].quantile(0.75)\n",
    "        iqr = q3-q1\n",
    "\n",
    "        upper_boundary = q3 + (3*iqr)\n",
    "        lower_boundary = q1 - (3*iqr)\n",
    "        \n",
    "\n",
    "\n",
    "\n",
    "    outlier_tot = X_train_eda_num[(X_train_eda_num[i]>upper_boundary)|((X_train_eda_num[i]<lower_boundary))]\n",
    "    outlier_percentage = len(outlier_tot)/len(X_train_eda_num)*100\n",
    "\n",
    "    print('Persentase outlier dari', i ,'adalah', outlier_percentage, '%')"
   ]
  },
  {
   "cell_type": "markdown",
   "metadata": {},
   "source": [
    "Digunakan metode capping karena distribusi data yang tidak normal. Dengan menggunakan metode capping, tidak akan ada data yang terbuang."
   ]
  },
  {
   "cell_type": "code",
   "execution_count": 34,
   "metadata": {},
   "outputs": [],
   "source": [
    "# Melakukan proses capping pada outlier\n",
    "capping = Winsorizer(capping_method='iqr',\n",
    "                             tail='both',\n",
    "                             fold=3,\n",
    "                             variables=['ApplicantIncome', 'CoapplicantIncome', 'LoanAmount'])\n",
    "\n",
    "X_train_capped = capping.fit_transform(X_train_eda_num)"
   ]
  },
  {
   "cell_type": "markdown",
   "metadata": {},
   "source": [
    "#### Scaling"
   ]
  },
  {
   "cell_type": "markdown",
   "metadata": {},
   "source": [
    "Digunakan MinMaxScaler untuk proses scaling karena distribusi data dianggap tidak normal."
   ]
  },
  {
   "cell_type": "code",
   "execution_count": 35,
   "metadata": {},
   "outputs": [
    {
     "data": {
      "text/html": [
       "<div>\n",
       "<style scoped>\n",
       "    .dataframe tbody tr th:only-of-type {\n",
       "        vertical-align: middle;\n",
       "    }\n",
       "\n",
       "    .dataframe tbody tr th {\n",
       "        vertical-align: top;\n",
       "    }\n",
       "\n",
       "    .dataframe thead th {\n",
       "        text-align: right;\n",
       "    }\n",
       "</style>\n",
       "<table border=\"1\" class=\"dataframe\">\n",
       "  <thead>\n",
       "    <tr style=\"text-align: right;\">\n",
       "      <th></th>\n",
       "      <th>ApplicantIncome</th>\n",
       "      <th>CoapplicantIncome</th>\n",
       "      <th>LoanAmount</th>\n",
       "    </tr>\n",
       "  </thead>\n",
       "  <tbody>\n",
       "    <tr>\n",
       "      <th>0</th>\n",
       "      <td>0.166638</td>\n",
       "      <td>0.383940</td>\n",
       "      <td>0.317365</td>\n",
       "    </tr>\n",
       "    <tr>\n",
       "      <th>1</th>\n",
       "      <td>0.438557</td>\n",
       "      <td>0.000000</td>\n",
       "      <td>0.287425</td>\n",
       "    </tr>\n",
       "    <tr>\n",
       "      <th>2</th>\n",
       "      <td>0.186299</td>\n",
       "      <td>0.202172</td>\n",
       "      <td>0.341317</td>\n",
       "    </tr>\n",
       "    <tr>\n",
       "      <th>3</th>\n",
       "      <td>0.208471</td>\n",
       "      <td>0.247258</td>\n",
       "      <td>0.350299</td>\n",
       "    </tr>\n",
       "    <tr>\n",
       "      <th>4</th>\n",
       "      <td>0.635384</td>\n",
       "      <td>0.863646</td>\n",
       "      <td>1.000000</td>\n",
       "    </tr>\n",
       "    <tr>\n",
       "      <th>...</th>\n",
       "      <td>...</td>\n",
       "      <td>...</td>\n",
       "      <td>...</td>\n",
       "    </tr>\n",
       "    <tr>\n",
       "      <th>486</th>\n",
       "      <td>0.271222</td>\n",
       "      <td>0.000000</td>\n",
       "      <td>0.344311</td>\n",
       "    </tr>\n",
       "    <tr>\n",
       "      <th>487</th>\n",
       "      <td>0.166638</td>\n",
       "      <td>0.188350</td>\n",
       "      <td>0.269461</td>\n",
       "    </tr>\n",
       "    <tr>\n",
       "      <th>488</th>\n",
       "      <td>0.236221</td>\n",
       "      <td>0.141180</td>\n",
       "      <td>0.272455</td>\n",
       "    </tr>\n",
       "    <tr>\n",
       "      <th>489</th>\n",
       "      <td>0.285864</td>\n",
       "      <td>0.000000</td>\n",
       "      <td>0.362275</td>\n",
       "    </tr>\n",
       "    <tr>\n",
       "      <th>490</th>\n",
       "      <td>1.000000</td>\n",
       "      <td>0.000000</td>\n",
       "      <td>0.697605</td>\n",
       "    </tr>\n",
       "  </tbody>\n",
       "</table>\n",
       "<p>491 rows × 3 columns</p>\n",
       "</div>"
      ],
      "text/plain": [
       "     ApplicantIncome  CoapplicantIncome  LoanAmount\n",
       "0           0.166638           0.383940    0.317365\n",
       "1           0.438557           0.000000    0.287425\n",
       "2           0.186299           0.202172    0.341317\n",
       "3           0.208471           0.247258    0.350299\n",
       "4           0.635384           0.863646    1.000000\n",
       "..               ...                ...         ...\n",
       "486         0.271222           0.000000    0.344311\n",
       "487         0.166638           0.188350    0.269461\n",
       "488         0.236221           0.141180    0.272455\n",
       "489         0.285864           0.000000    0.362275\n",
       "490         1.000000           0.000000    0.697605\n",
       "\n",
       "[491 rows x 3 columns]"
      ]
     },
     "execution_count": 35,
     "metadata": {},
     "output_type": "execute_result"
    }
   ],
   "source": [
    "# Melakukan scaling dengan metode MinMaxScaler\n",
    "scaler = MinMaxScaler()\n",
    "\n",
    "# Fitting dan transformasi pada data pelatihan numerik\n",
    "X_train_capped = scaler.fit_transform(X_train_capped)\n",
    "\n",
    "X_train_capped = pd.DataFrame(X_train_capped, columns=['ApplicantIncome', 'CoapplicantIncome', 'LoanAmount'])\n",
    "X_train_capped"
   ]
  },
  {
   "cell_type": "markdown",
   "metadata": {},
   "source": [
    "Pengolahan pada kolom numerikal sudah selesai, sekarang dilakukan pengolahan pada kolom kategorikal."
   ]
  },
  {
   "cell_type": "markdown",
   "metadata": {},
   "source": [
    "### Categorical Column"
   ]
  },
  {
   "cell_type": "markdown",
   "metadata": {},
   "source": [
    "Pada sub section ini dilakukan pengolahan pada kolom kategorikal seperti missing value handling serta encoding."
   ]
  },
  {
   "cell_type": "markdown",
   "metadata": {},
   "source": [
    "#### Missing Value Handling"
   ]
  },
  {
   "cell_type": "code",
   "execution_count": 36,
   "metadata": {},
   "outputs": [
    {
     "data": {
      "text/plain": [
       "Gender               8\n",
       "Married              3\n",
       "Dependents          13\n",
       "Education            0\n",
       "Self_Employed       27\n",
       "Loan_Amount_Term    10\n",
       "Credit_History      44\n",
       "Property_Area        0\n",
       "dtype: int64"
      ]
     },
     "execution_count": 36,
     "metadata": {},
     "output_type": "execute_result"
    }
   ],
   "source": [
    "# Melihat missing value pada X_train_cat\n",
    "X_train_cat.isnull().sum()"
   ]
  },
  {
   "cell_type": "markdown",
   "metadata": {},
   "source": [
    "Terdapat missing value pada fitur kategorikal, sehingga akan dilakukan simple imputer dengan menggunakan strategy most frequent."
   ]
  },
  {
   "cell_type": "code",
   "execution_count": 37,
   "metadata": {},
   "outputs": [
    {
     "data": {
      "text/plain": [
       "Gender              0\n",
       "Married             0\n",
       "Dependents          0\n",
       "Education           0\n",
       "Self_Employed       0\n",
       "Loan_Amount_Term    0\n",
       "Credit_History      0\n",
       "Property_Area       0\n",
       "dtype: int64"
      ]
     },
     "execution_count": 37,
     "metadata": {},
     "output_type": "execute_result"
    }
   ],
   "source": [
    "# missing value handling\n",
    "imp_cat = SimpleImputer(strategy='most_frequent')\n",
    "X_train_eda_cat = imp_cat.fit_transform(X_train_cat)\n",
    "X_train_eda_cat = pd.DataFrame(X_train_eda_cat , columns=['Gender', 'Married', 'Dependents','Education', 'Self_Employed', 'Loan_Amount_Term', 'Credit_History', 'Property_Area'])\n",
    "X_train_eda_cat.isnull().sum()"
   ]
  },
  {
   "cell_type": "markdown",
   "metadata": {},
   "source": [
    "Proses imputasi sudah selesai, namun karena digunakan strategy most frequent, perlu di cek kembali tipe data setelah proses imputasi."
   ]
  },
  {
   "cell_type": "code",
   "execution_count": 38,
   "metadata": {},
   "outputs": [
    {
     "name": "stdout",
     "output_type": "stream",
     "text": [
      "<class 'pandas.core.frame.DataFrame'>\n",
      "RangeIndex: 491 entries, 0 to 490\n",
      "Data columns (total 8 columns):\n",
      " #   Column            Non-Null Count  Dtype \n",
      "---  ------            --------------  ----- \n",
      " 0   Gender            491 non-null    object\n",
      " 1   Married           491 non-null    object\n",
      " 2   Dependents        491 non-null    object\n",
      " 3   Education         491 non-null    object\n",
      " 4   Self_Employed     491 non-null    object\n",
      " 5   Loan_Amount_Term  491 non-null    object\n",
      " 6   Credit_History    491 non-null    object\n",
      " 7   Property_Area     491 non-null    object\n",
      "dtypes: object(8)\n",
      "memory usage: 30.8+ KB\n"
     ]
    }
   ],
   "source": [
    "# Mengecek informasi yang terdapat pada data setelah dilakukan simple imputer\n",
    "X_train_eda_cat.info()"
   ]
  },
  {
   "cell_type": "markdown",
   "metadata": {},
   "source": [
    "Tipe data berubah menjadi object semua, sehingga diperlukan perubahan data type sesuai dengan tipe data dari masing-masing fitur tersebut."
   ]
  },
  {
   "cell_type": "code",
   "execution_count": 39,
   "metadata": {},
   "outputs": [],
   "source": [
    "# Mengubah tipe data sesuai dengan data tersebut\n",
    "X_train_eda_cat['Gender'] = X_train_eda_cat['Gender'].astype('int')\n",
    "X_train_eda_cat['Married'] = X_train_eda_cat['Married'].astype('int')\n",
    "X_train_eda_cat['Education'] = X_train_eda_cat['Education'].astype('int')\n",
    "X_train_eda_cat['Loan_Amount_Term'] = X_train_eda_cat['Loan_Amount_Term'].astype('float64')\n",
    "X_train_eda_cat['Credit_History'] = X_train_eda_cat['Credit_History'].astype('float64')"
   ]
  },
  {
   "cell_type": "markdown",
   "metadata": {},
   "source": [
    "Setelah missing value handling selesai, dilakukan encoding pada kolom `Dependents` serta kolom `property_area` dengan menggunakan ordinal encoder dan one hot encoder."
   ]
  },
  {
   "cell_type": "markdown",
   "metadata": {},
   "source": [
    "#### Encoding"
   ]
  },
  {
   "cell_type": "markdown",
   "metadata": {},
   "source": [
    "Ordinal Encoder"
   ]
  },
  {
   "cell_type": "code",
   "execution_count": 40,
   "metadata": {},
   "outputs": [],
   "source": [
    "# Ordinal Encoder untuk kolom Dependents karena merupakan ordinal\n",
    "Dependents = ['0', '1', '2', '3+']\n",
    "\n",
    "ord_enc = OrdinalEncoder(categories=[Dependents])\n",
    "cat_ord = pd.DataFrame(ord_enc.fit_transform(X_train_eda_cat[['Dependents']]))\n",
    "\n",
    "cat_ord.columns = ['Dependents_enc']"
   ]
  },
  {
   "cell_type": "markdown",
   "metadata": {},
   "source": [
    "One Hot Encoder"
   ]
  },
  {
   "cell_type": "code",
   "execution_count": 41,
   "metadata": {},
   "outputs": [
    {
     "data": {
      "text/html": [
       "<div>\n",
       "<style scoped>\n",
       "    .dataframe tbody tr th:only-of-type {\n",
       "        vertical-align: middle;\n",
       "    }\n",
       "\n",
       "    .dataframe tbody tr th {\n",
       "        vertical-align: top;\n",
       "    }\n",
       "\n",
       "    .dataframe thead th {\n",
       "        text-align: right;\n",
       "    }\n",
       "</style>\n",
       "<table border=\"1\" class=\"dataframe\">\n",
       "  <thead>\n",
       "    <tr style=\"text-align: right;\">\n",
       "      <th></th>\n",
       "      <th>Property_Area_Rural</th>\n",
       "      <th>Property_Area_Semiurban</th>\n",
       "      <th>Property_Area_Urban</th>\n",
       "    </tr>\n",
       "  </thead>\n",
       "  <tbody>\n",
       "    <tr>\n",
       "      <th>0</th>\n",
       "      <td>0.0</td>\n",
       "      <td>0.0</td>\n",
       "      <td>1.0</td>\n",
       "    </tr>\n",
       "    <tr>\n",
       "      <th>1</th>\n",
       "      <td>1.0</td>\n",
       "      <td>0.0</td>\n",
       "      <td>0.0</td>\n",
       "    </tr>\n",
       "    <tr>\n",
       "      <th>2</th>\n",
       "      <td>0.0</td>\n",
       "      <td>1.0</td>\n",
       "      <td>0.0</td>\n",
       "    </tr>\n",
       "    <tr>\n",
       "      <th>3</th>\n",
       "      <td>0.0</td>\n",
       "      <td>0.0</td>\n",
       "      <td>1.0</td>\n",
       "    </tr>\n",
       "    <tr>\n",
       "      <th>4</th>\n",
       "      <td>1.0</td>\n",
       "      <td>0.0</td>\n",
       "      <td>0.0</td>\n",
       "    </tr>\n",
       "    <tr>\n",
       "      <th>...</th>\n",
       "      <td>...</td>\n",
       "      <td>...</td>\n",
       "      <td>...</td>\n",
       "    </tr>\n",
       "    <tr>\n",
       "      <th>486</th>\n",
       "      <td>1.0</td>\n",
       "      <td>0.0</td>\n",
       "      <td>0.0</td>\n",
       "    </tr>\n",
       "    <tr>\n",
       "      <th>487</th>\n",
       "      <td>0.0</td>\n",
       "      <td>1.0</td>\n",
       "      <td>0.0</td>\n",
       "    </tr>\n",
       "    <tr>\n",
       "      <th>488</th>\n",
       "      <td>1.0</td>\n",
       "      <td>0.0</td>\n",
       "      <td>0.0</td>\n",
       "    </tr>\n",
       "    <tr>\n",
       "      <th>489</th>\n",
       "      <td>0.0</td>\n",
       "      <td>1.0</td>\n",
       "      <td>0.0</td>\n",
       "    </tr>\n",
       "    <tr>\n",
       "      <th>490</th>\n",
       "      <td>0.0</td>\n",
       "      <td>1.0</td>\n",
       "      <td>0.0</td>\n",
       "    </tr>\n",
       "  </tbody>\n",
       "</table>\n",
       "<p>491 rows × 3 columns</p>\n",
       "</div>"
      ],
      "text/plain": [
       "     Property_Area_Rural  Property_Area_Semiurban  Property_Area_Urban\n",
       "0                    0.0                      0.0                  1.0\n",
       "1                    1.0                      0.0                  0.0\n",
       "2                    0.0                      1.0                  0.0\n",
       "3                    0.0                      0.0                  1.0\n",
       "4                    1.0                      0.0                  0.0\n",
       "..                   ...                      ...                  ...\n",
       "486                  1.0                      0.0                  0.0\n",
       "487                  0.0                      1.0                  0.0\n",
       "488                  1.0                      0.0                  0.0\n",
       "489                  0.0                      1.0                  0.0\n",
       "490                  0.0                      1.0                  0.0\n",
       "\n",
       "[491 rows x 3 columns]"
      ]
     },
     "execution_count": 41,
     "metadata": {},
     "output_type": "execute_result"
    }
   ],
   "source": [
    "# OneHotEncoder untuk kolom property_area karena bukan merupakan ordinal\n",
    "ohe_enc = OneHotEncoder(sparse=False)\n",
    "\n",
    "cat_ohe = pd.DataFrame(ohe_enc.fit_transform(X_train_eda[['Property_Area']]))\n",
    "cat_ohe.columns = ohe_enc.get_feature_names_out(['Property_Area']).tolist()\n",
    "cat_ohe"
   ]
  },
  {
   "cell_type": "code",
   "execution_count": 42,
   "metadata": {},
   "outputs": [],
   "source": [
    "# Membuat variabel baru berisikan fitur kategorikal yang tidak dilakukan encoding\n",
    "cat_1 = X_train_eda_cat[['Gender', 'Married', 'Education', 'Self_Employed', 'Loan_Amount_Term', 'Credit_History']]"
   ]
  },
  {
   "cell_type": "markdown",
   "metadata": {},
   "source": [
    "Selanjutnya seluruh fitur disatukan kembali untuk dilakukan seleksi fitur."
   ]
  },
  {
   "cell_type": "code",
   "execution_count": 43,
   "metadata": {},
   "outputs": [
    {
     "data": {
      "text/html": [
       "<div>\n",
       "<style scoped>\n",
       "    .dataframe tbody tr th:only-of-type {\n",
       "        vertical-align: middle;\n",
       "    }\n",
       "\n",
       "    .dataframe tbody tr th {\n",
       "        vertical-align: top;\n",
       "    }\n",
       "\n",
       "    .dataframe thead th {\n",
       "        text-align: right;\n",
       "    }\n",
       "</style>\n",
       "<table border=\"1\" class=\"dataframe\">\n",
       "  <thead>\n",
       "    <tr style=\"text-align: right;\">\n",
       "      <th></th>\n",
       "      <th>ApplicantIncome</th>\n",
       "      <th>CoapplicantIncome</th>\n",
       "      <th>LoanAmount</th>\n",
       "      <th>Dependents_enc</th>\n",
       "      <th>Gender</th>\n",
       "      <th>Married</th>\n",
       "      <th>Education</th>\n",
       "      <th>Self_Employed</th>\n",
       "      <th>Loan_Amount_Term</th>\n",
       "      <th>Credit_History</th>\n",
       "      <th>Property_Area_Rural</th>\n",
       "      <th>Property_Area_Semiurban</th>\n",
       "      <th>Property_Area_Urban</th>\n",
       "      <th>Loan_Status</th>\n",
       "    </tr>\n",
       "  </thead>\n",
       "  <tbody>\n",
       "    <tr>\n",
       "      <th>0</th>\n",
       "      <td>0.166638</td>\n",
       "      <td>0.383940</td>\n",
       "      <td>0.317365</td>\n",
       "      <td>0.0</td>\n",
       "      <td>1</td>\n",
       "      <td>1</td>\n",
       "      <td>1</td>\n",
       "      <td>0.0</td>\n",
       "      <td>360.0</td>\n",
       "      <td>1.0</td>\n",
       "      <td>0.0</td>\n",
       "      <td>0.0</td>\n",
       "      <td>1.0</td>\n",
       "      <td>1</td>\n",
       "    </tr>\n",
       "    <tr>\n",
       "      <th>1</th>\n",
       "      <td>0.438557</td>\n",
       "      <td>0.000000</td>\n",
       "      <td>0.287425</td>\n",
       "      <td>0.0</td>\n",
       "      <td>1</td>\n",
       "      <td>0</td>\n",
       "      <td>1</td>\n",
       "      <td>0.0</td>\n",
       "      <td>360.0</td>\n",
       "      <td>0.0</td>\n",
       "      <td>1.0</td>\n",
       "      <td>0.0</td>\n",
       "      <td>0.0</td>\n",
       "      <td>0</td>\n",
       "    </tr>\n",
       "    <tr>\n",
       "      <th>2</th>\n",
       "      <td>0.186299</td>\n",
       "      <td>0.202172</td>\n",
       "      <td>0.341317</td>\n",
       "      <td>1.0</td>\n",
       "      <td>1</td>\n",
       "      <td>1</td>\n",
       "      <td>1</td>\n",
       "      <td>0.0</td>\n",
       "      <td>480.0</td>\n",
       "      <td>1.0</td>\n",
       "      <td>0.0</td>\n",
       "      <td>1.0</td>\n",
       "      <td>0.0</td>\n",
       "      <td>1</td>\n",
       "    </tr>\n",
       "    <tr>\n",
       "      <th>3</th>\n",
       "      <td>0.208471</td>\n",
       "      <td>0.247258</td>\n",
       "      <td>0.350299</td>\n",
       "      <td>0.0</td>\n",
       "      <td>1</td>\n",
       "      <td>0</td>\n",
       "      <td>0</td>\n",
       "      <td>0.0</td>\n",
       "      <td>180.0</td>\n",
       "      <td>0.0</td>\n",
       "      <td>0.0</td>\n",
       "      <td>0.0</td>\n",
       "      <td>1.0</td>\n",
       "      <td>0</td>\n",
       "    </tr>\n",
       "    <tr>\n",
       "      <th>4</th>\n",
       "      <td>0.635384</td>\n",
       "      <td>0.863646</td>\n",
       "      <td>1.000000</td>\n",
       "      <td>2.0</td>\n",
       "      <td>1</td>\n",
       "      <td>1</td>\n",
       "      <td>1</td>\n",
       "      <td>1.0</td>\n",
       "      <td>300.0</td>\n",
       "      <td>1.0</td>\n",
       "      <td>1.0</td>\n",
       "      <td>0.0</td>\n",
       "      <td>0.0</td>\n",
       "      <td>1</td>\n",
       "    </tr>\n",
       "    <tr>\n",
       "      <th>...</th>\n",
       "      <td>...</td>\n",
       "      <td>...</td>\n",
       "      <td>...</td>\n",
       "      <td>...</td>\n",
       "      <td>...</td>\n",
       "      <td>...</td>\n",
       "      <td>...</td>\n",
       "      <td>...</td>\n",
       "      <td>...</td>\n",
       "      <td>...</td>\n",
       "      <td>...</td>\n",
       "      <td>...</td>\n",
       "      <td>...</td>\n",
       "      <td>...</td>\n",
       "    </tr>\n",
       "    <tr>\n",
       "      <th>486</th>\n",
       "      <td>0.271222</td>\n",
       "      <td>0.000000</td>\n",
       "      <td>0.344311</td>\n",
       "      <td>0.0</td>\n",
       "      <td>0</td>\n",
       "      <td>1</td>\n",
       "      <td>0</td>\n",
       "      <td>0.0</td>\n",
       "      <td>360.0</td>\n",
       "      <td>1.0</td>\n",
       "      <td>1.0</td>\n",
       "      <td>0.0</td>\n",
       "      <td>0.0</td>\n",
       "      <td>1</td>\n",
       "    </tr>\n",
       "    <tr>\n",
       "      <th>487</th>\n",
       "      <td>0.166638</td>\n",
       "      <td>0.188350</td>\n",
       "      <td>0.269461</td>\n",
       "      <td>0.0</td>\n",
       "      <td>0</td>\n",
       "      <td>0</td>\n",
       "      <td>1</td>\n",
       "      <td>1.0</td>\n",
       "      <td>300.0</td>\n",
       "      <td>1.0</td>\n",
       "      <td>0.0</td>\n",
       "      <td>1.0</td>\n",
       "      <td>0.0</td>\n",
       "      <td>0</td>\n",
       "    </tr>\n",
       "    <tr>\n",
       "      <th>488</th>\n",
       "      <td>0.236221</td>\n",
       "      <td>0.141180</td>\n",
       "      <td>0.272455</td>\n",
       "      <td>0.0</td>\n",
       "      <td>1</td>\n",
       "      <td>0</td>\n",
       "      <td>0</td>\n",
       "      <td>0.0</td>\n",
       "      <td>360.0</td>\n",
       "      <td>1.0</td>\n",
       "      <td>1.0</td>\n",
       "      <td>0.0</td>\n",
       "      <td>0.0</td>\n",
       "      <td>0</td>\n",
       "    </tr>\n",
       "    <tr>\n",
       "      <th>489</th>\n",
       "      <td>0.285864</td>\n",
       "      <td>0.000000</td>\n",
       "      <td>0.362275</td>\n",
       "      <td>0.0</td>\n",
       "      <td>1</td>\n",
       "      <td>1</td>\n",
       "      <td>1</td>\n",
       "      <td>0.0</td>\n",
       "      <td>360.0</td>\n",
       "      <td>1.0</td>\n",
       "      <td>0.0</td>\n",
       "      <td>1.0</td>\n",
       "      <td>0.0</td>\n",
       "      <td>1</td>\n",
       "    </tr>\n",
       "    <tr>\n",
       "      <th>490</th>\n",
       "      <td>1.000000</td>\n",
       "      <td>0.000000</td>\n",
       "      <td>0.697605</td>\n",
       "      <td>0.0</td>\n",
       "      <td>1</td>\n",
       "      <td>0</td>\n",
       "      <td>1</td>\n",
       "      <td>0.0</td>\n",
       "      <td>360.0</td>\n",
       "      <td>0.0</td>\n",
       "      <td>0.0</td>\n",
       "      <td>1.0</td>\n",
       "      <td>0.0</td>\n",
       "      <td>0</td>\n",
       "    </tr>\n",
       "  </tbody>\n",
       "</table>\n",
       "<p>491 rows × 14 columns</p>\n",
       "</div>"
      ],
      "text/plain": [
       "     ApplicantIncome  CoapplicantIncome  LoanAmount  Dependents_enc  Gender  \\\n",
       "0           0.166638           0.383940    0.317365             0.0       1   \n",
       "1           0.438557           0.000000    0.287425             0.0       1   \n",
       "2           0.186299           0.202172    0.341317             1.0       1   \n",
       "3           0.208471           0.247258    0.350299             0.0       1   \n",
       "4           0.635384           0.863646    1.000000             2.0       1   \n",
       "..               ...                ...         ...             ...     ...   \n",
       "486         0.271222           0.000000    0.344311             0.0       0   \n",
       "487         0.166638           0.188350    0.269461             0.0       0   \n",
       "488         0.236221           0.141180    0.272455             0.0       1   \n",
       "489         0.285864           0.000000    0.362275             0.0       1   \n",
       "490         1.000000           0.000000    0.697605             0.0       1   \n",
       "\n",
       "     Married  Education Self_Employed  Loan_Amount_Term  Credit_History  \\\n",
       "0          1          1           0.0             360.0             1.0   \n",
       "1          0          1           0.0             360.0             0.0   \n",
       "2          1          1           0.0             480.0             1.0   \n",
       "3          0          0           0.0             180.0             0.0   \n",
       "4          1          1           1.0             300.0             1.0   \n",
       "..       ...        ...           ...               ...             ...   \n",
       "486        1          0           0.0             360.0             1.0   \n",
       "487        0          1           1.0             300.0             1.0   \n",
       "488        0          0           0.0             360.0             1.0   \n",
       "489        1          1           0.0             360.0             1.0   \n",
       "490        0          1           0.0             360.0             0.0   \n",
       "\n",
       "     Property_Area_Rural  Property_Area_Semiurban  Property_Area_Urban  \\\n",
       "0                    0.0                      0.0                  1.0   \n",
       "1                    1.0                      0.0                  0.0   \n",
       "2                    0.0                      1.0                  0.0   \n",
       "3                    0.0                      0.0                  1.0   \n",
       "4                    1.0                      0.0                  0.0   \n",
       "..                   ...                      ...                  ...   \n",
       "486                  1.0                      0.0                  0.0   \n",
       "487                  0.0                      1.0                  0.0   \n",
       "488                  1.0                      0.0                  0.0   \n",
       "489                  0.0                      1.0                  0.0   \n",
       "490                  0.0                      1.0                  0.0   \n",
       "\n",
       "     Loan_Status  \n",
       "0              1  \n",
       "1              0  \n",
       "2              1  \n",
       "3              0  \n",
       "4              1  \n",
       "..           ...  \n",
       "486            1  \n",
       "487            0  \n",
       "488            0  \n",
       "489            1  \n",
       "490            0  \n",
       "\n",
       "[491 rows x 14 columns]"
      ]
     },
     "execution_count": 43,
     "metadata": {},
     "output_type": "execute_result"
    }
   ],
   "source": [
    "X_train_eda_final = pd.concat([X_train_capped.reset_index(drop=True), cat_ord.reset_index(drop=True), cat_1.reset_index(drop=True), cat_ohe.reset_index(drop=True), y_train.reset_index(drop=True)], axis=1)\n",
    "X_train_eda_final"
   ]
  },
  {
   "cell_type": "markdown",
   "metadata": {},
   "source": [
    "### Feature Selection"
   ]
  },
  {
   "cell_type": "code",
   "execution_count": 44,
   "metadata": {},
   "outputs": [
    {
     "data": {
      "image/png": "[encoded data removed]",
      "text/plain": [
       "<Figure size 2000x1000 with 2 Axes>"
      ]
     },
     "metadata": {},
     "output_type": "display_data"
    }
   ],
   "source": [
    "# Pembuatan korelasi heatmap antar kolom untuk mengetahui kolom mana saja yang akan dipakai di proses selanjutnya\n",
    "fig,ax = plt.subplots(figsize=[20,10])\n",
    "\n",
    "corr = X_train_eda_final.corr()\n",
    "\n",
    "ax = sns.heatmap(corr,annot=True)\n",
    "plt.show()"
   ]
  },
  {
   "cell_type": "markdown",
   "metadata": {},
   "source": [
    "Setelah dilakukan korelasi heatmap, berikut merupakan kolom yang digunakan:\n",
    "\n",
    "all_col = ['Married', 'Education', 'Credit_History', 'Property_Area']\n",
    "\n",
    "Kolom yang digunakan dilihat dari nilai korelasi kolom-kolom tersebut terhadap target yaitu kolom default payment. Kolom yang selanjutnya digunakan adalah kolom yang memiliki nilai korelasi lebih dari +0.1 atau dibawah -0.1. Kolom Property_Area dimasukkan ke dalam pipeline karena dari hasil korelasi heatmap area rural dan semiurban memiliki korelasi yang cukup tinggi sehingga memiliki perbandingan 2:1."
   ]
  },
  {
   "cell_type": "markdown",
   "metadata": {},
   "source": [
    "### Preprocessing"
   ]
  },
  {
   "cell_type": "markdown",
   "metadata": {},
   "source": [
    "#### Pipeline"
   ]
  },
  {
   "cell_type": "markdown",
   "metadata": {},
   "source": [
    "Pipeline digunakan untuk memudahkan proses data inference."
   ]
  },
  {
   "cell_type": "code",
   "execution_count": 45,
   "metadata": {},
   "outputs": [
    {
     "data": {
      "text/plain": [
       "array([[1., 1., 1.],\n",
       "       [0., 1., 0.],\n",
       "       [1., 1., 1.],\n",
       "       ...,\n",
       "       [0., 0., 1.],\n",
       "       [1., 1., 1.],\n",
       "       [0., 1., 0.]])"
      ]
     },
     "execution_count": 45,
     "metadata": {},
     "output_type": "execute_result"
    }
   ],
   "source": [
    "# Membuat pipeline untuk kolom kategorikal yang tidak di encode\n",
    "cat_1_pipeline = Pipeline([\n",
    "        ('imputer_1', SimpleImputer(strategy='most_frequent'))\n",
    "        ])\n",
    "\n",
    "cat_1_tr = cat_1_pipeline.fit_transform(X_train[['Married', 'Education', 'Credit_History']])\n",
    "cat_1_tr"
   ]
  },
  {
   "cell_type": "code",
   "execution_count": 46,
   "metadata": {},
   "outputs": [
    {
     "data": {
      "text/plain": [
       "array([[0., 0., 1.],\n",
       "       [1., 0., 0.],\n",
       "       [0., 1., 0.],\n",
       "       ...,\n",
       "       [1., 0., 0.],\n",
       "       [0., 1., 0.],\n",
       "       [0., 1., 0.]])"
      ]
     },
     "execution_count": 46,
     "metadata": {},
     "output_type": "execute_result"
    }
   ],
   "source": [
    "# Membuat pipeline untuk kolom kategorikal yang di encode\n",
    "cat_2_pipeline = Pipeline([\n",
    "        ('imputer_2', SimpleImputer(strategy='most_frequent')),\n",
    "        ('ohe_enc', OneHotEncoder(sparse=False, handle_unknown='ignore'))\n",
    "    ])\n",
    "\n",
    "cat_2_tr = cat_2_pipeline.fit_transform(X_train[['Property_Area']])\n",
    "cat_2_tr"
   ]
  },
  {
   "cell_type": "code",
   "execution_count": 165,
   "metadata": {},
   "outputs": [
    {
     "data": {
      "text/plain": [
       "array([[1., 1., 1., 0., 0., 1.],\n",
       "       [0., 1., 0., 1., 0., 0.],\n",
       "       [1., 1., 1., 0., 1., 0.],\n",
       "       ...,\n",
       "       [0., 0., 1., 1., 0., 0.],\n",
       "       [1., 1., 1., 0., 1., 0.],\n",
       "       [0., 1., 0., 0., 1., 0.]])"
      ]
     },
     "execution_count": 165,
     "metadata": {},
     "output_type": "execute_result"
    }
   ],
   "source": [
    "# Membuat pipeline keseluruhan\n",
    "full_pipeline = ColumnTransformer([\n",
    "        (\"cat_ord\", cat_1_pipeline, ['Married', 'Education', 'Credit_History']),\n",
    "        (\"cat_ohe\", cat_2_pipeline, ['Property_Area']),\n",
    "    ])\n",
    "\n",
    "# Melihat hasil pipeline train\n",
    "train_tr = full_pipeline.fit_transform(X_train)\n",
    "train_tr"
   ]
  },
  {
   "cell_type": "code",
   "execution_count": 161,
   "metadata": {},
   "outputs": [
    {
     "data": {
      "text/html": [
       "<style>#sk-container-id-21 {color: black;}#sk-container-id-21 pre{padding: 0;}#sk-container-id-21 div.sk-toggleable {background-color: white;}#sk-container-id-21 label.sk-toggleable__label {cursor: pointer;display: block;width: 100%;margin-bottom: 0;padding: 0.3em;box-sizing: border-box;text-align: center;}#sk-container-id-21 label.sk-toggleable__label-arrow:before {content: \"▸\";float: left;margin-right: 0.25em;color: #696969;}#sk-container-id-21 label.sk-toggleable__label-arrow:hover:before {color: black;}#sk-container-id-21 div.sk-estimator:hover label.sk-toggleable__label-arrow:before {color: black;}#sk-container-id-21 div.sk-toggleable__content {max-height: 0;max-width: 0;overflow: hidden;text-align: left;background-color: #f0f8ff;}#sk-container-id-21 div.sk-toggleable__content pre {margin: 0.2em;color: black;border-radius: 0.25em;background-color: #f0f8ff;}#sk-container-id-21 input.sk-toggleable__control:checked~div.sk-toggleable__content {max-height: 200px;max-width: 100%;overflow: auto;}#sk-container-id-21 input.sk-toggleable__control:checked~label.sk-toggleable__label-arrow:before {content: \"▾\";}#sk-container-id-21 div.sk-estimator input.sk-toggleable__control:checked~label.sk-toggleable__label {background-color: #d4ebff;}#sk-container-id-21 div.sk-label input.sk-toggleable__control:checked~label.sk-toggleable__label {background-color: #d4ebff;}#sk-container-id-21 input.sk-hidden--visually {border: 0;clip: rect(1px 1px 1px 1px);clip: rect(1px, 1px, 1px, 1px);height: 1px;margin: -1px;overflow: hidden;padding: 0;position: absolute;width: 1px;}#sk-container-id-21 div.sk-estimator {font-family: monospace;background-color: #f0f8ff;border: 1px dotted black;border-radius: 0.25em;box-sizing: border-box;margin-bottom: 0.5em;}#sk-container-id-21 div.sk-estimator:hover {background-color: #d4ebff;}#sk-container-id-21 div.sk-parallel-item::after {content: \"\";width: 100%;border-bottom: 1px solid gray;flex-grow: 1;}#sk-container-id-21 div.sk-label:hover label.sk-toggleable__label {background-color: #d4ebff;}#sk-container-id-21 div.sk-serial::before {content: \"\";position: absolute;border-left: 1px solid gray;box-sizing: border-box;top: 0;bottom: 0;left: 50%;z-index: 0;}#sk-container-id-21 div.sk-serial {display: flex;flex-direction: column;align-items: center;background-color: white;padding-right: 0.2em;padding-left: 0.2em;position: relative;}#sk-container-id-21 div.sk-item {position: relative;z-index: 1;}#sk-container-id-21 div.sk-parallel {display: flex;align-items: stretch;justify-content: center;background-color: white;position: relative;}#sk-container-id-21 div.sk-item::before, #sk-container-id-21 div.sk-parallel-item::before {content: \"\";position: absolute;border-left: 1px solid gray;box-sizing: border-box;top: 0;bottom: 0;left: 50%;z-index: -1;}#sk-container-id-21 div.sk-parallel-item {display: flex;flex-direction: column;z-index: 1;position: relative;background-color: white;}#sk-container-id-21 div.sk-parallel-item:first-child::after {align-self: flex-end;width: 50%;}#sk-container-id-21 div.sk-parallel-item:last-child::after {align-self: flex-start;width: 50%;}#sk-container-id-21 div.sk-parallel-item:only-child::after {width: 0;}#sk-container-id-21 div.sk-dashed-wrapped {border: 1px dashed gray;margin: 0 0.4em 0.5em 0.4em;box-sizing: border-box;padding-bottom: 0.4em;background-color: white;}#sk-container-id-21 div.sk-label label {font-family: monospace;font-weight: bold;display: inline-block;line-height: 1.2em;}#sk-container-id-21 div.sk-label-container {text-align: center;}#sk-container-id-21 div.sk-container {/* jupyter's `normalize.less` sets `[hidden] { display: none; }` but bootstrap.min.css set `[hidden] { display: none !important; }` so we also need the `!important` here to be able to override the default hidden behavior on the sphinx rendered scikit-learn.org. See: https://github.com/scikit-learn/scikit-learn/issues/21755 */display: inline-block !important;position: relative;}#sk-container-id-21 div.sk-text-repr-fallback {display: none;}</style><div id=\"sk-container-id-21\" class=\"sk-top-container\"><div class=\"sk-text-repr-fallback\"><pre>ColumnTransformer(transformers=[(&#x27;cat_ord&#x27;,\n",
       "                                 Pipeline(steps=[(&#x27;imputer_1&#x27;,\n",
       "                                                  SimpleImputer(strategy=&#x27;most_frequent&#x27;))]),\n",
       "                                 [&#x27;Married&#x27;, &#x27;Education&#x27;, &#x27;Credit_History&#x27;]),\n",
       "                                (&#x27;cat_ohe&#x27;,\n",
       "                                 Pipeline(steps=[(&#x27;imputer_2&#x27;,\n",
       "                                                  SimpleImputer(strategy=&#x27;most_frequent&#x27;)),\n",
       "                                                 (&#x27;ohe_enc&#x27;,\n",
       "                                                  OneHotEncoder(handle_unknown=&#x27;ignore&#x27;,\n",
       "                                                                sparse=False,\n",
       "                                                                sparse_output=False))]),\n",
       "                                 [&#x27;Property_Area&#x27;])])</pre><b>In a Jupyter environment, please rerun this cell to show the HTML representation or trust the notebook. <br />On GitHub, the HTML representation is unable to render, please try loading this page with nbviewer.org.</b></div><div class=\"sk-container\" hidden><div class=\"sk-item sk-dashed-wrapped\"><div class=\"sk-label-container\"><div class=\"sk-label sk-toggleable\"><input class=\"sk-toggleable__control sk-hidden--visually\" id=\"sk-estimator-id-81\" type=\"checkbox\" ><label for=\"sk-estimator-id-81\" class=\"sk-toggleable__label sk-toggleable__label-arrow\">ColumnTransformer</label><div class=\"sk-toggleable__content\"><pre>ColumnTransformer(transformers=[(&#x27;cat_ord&#x27;,\n",
       "                                 Pipeline(steps=[(&#x27;imputer_1&#x27;,\n",
       "                                                  SimpleImputer(strategy=&#x27;most_frequent&#x27;))]),\n",
       "                                 [&#x27;Married&#x27;, &#x27;Education&#x27;, &#x27;Credit_History&#x27;]),\n",
       "                                (&#x27;cat_ohe&#x27;,\n",
       "                                 Pipeline(steps=[(&#x27;imputer_2&#x27;,\n",
       "                                                  SimpleImputer(strategy=&#x27;most_frequent&#x27;)),\n",
       "                                                 (&#x27;ohe_enc&#x27;,\n",
       "                                                  OneHotEncoder(handle_unknown=&#x27;ignore&#x27;,\n",
       "                                                                sparse=False,\n",
       "                                                                sparse_output=False))]),\n",
       "                                 [&#x27;Property_Area&#x27;])])</pre></div></div></div><div class=\"sk-parallel\"><div class=\"sk-parallel-item\"><div class=\"sk-item\"><div class=\"sk-label-container\"><div class=\"sk-label sk-toggleable\"><input class=\"sk-toggleable__control sk-hidden--visually\" id=\"sk-estimator-id-82\" type=\"checkbox\" ><label for=\"sk-estimator-id-82\" class=\"sk-toggleable__label sk-toggleable__label-arrow\">cat_ord</label><div class=\"sk-toggleable__content\"><pre>[&#x27;Married&#x27;, &#x27;Education&#x27;, &#x27;Credit_History&#x27;]</pre></div></div></div><div class=\"sk-serial\"><div class=\"sk-item\"><div class=\"sk-serial\"><div class=\"sk-item\"><div class=\"sk-estimator sk-toggleable\"><input class=\"sk-toggleable__control sk-hidden--visually\" id=\"sk-estimator-id-83\" type=\"checkbox\" ><label for=\"sk-estimator-id-83\" class=\"sk-toggleable__label sk-toggleable__label-arrow\">SimpleImputer</label><div class=\"sk-toggleable__content\"><pre>SimpleImputer(strategy=&#x27;most_frequent&#x27;)</pre></div></div></div></div></div></div></div></div><div class=\"sk-parallel-item\"><div class=\"sk-item\"><div class=\"sk-label-container\"><div class=\"sk-label sk-toggleable\"><input class=\"sk-toggleable__control sk-hidden--visually\" id=\"sk-estimator-id-84\" type=\"checkbox\" ><label for=\"sk-estimator-id-84\" class=\"sk-toggleable__label sk-toggleable__label-arrow\">cat_ohe</label><div class=\"sk-toggleable__content\"><pre>[&#x27;Property_Area&#x27;]</pre></div></div></div><div class=\"sk-serial\"><div class=\"sk-item\"><div class=\"sk-serial\"><div class=\"sk-item\"><div class=\"sk-estimator sk-toggleable\"><input class=\"sk-toggleable__control sk-hidden--visually\" id=\"sk-estimator-id-85\" type=\"checkbox\" ><label for=\"sk-estimator-id-85\" class=\"sk-toggleable__label sk-toggleable__label-arrow\">SimpleImputer</label><div class=\"sk-toggleable__content\"><pre>SimpleImputer(strategy=&#x27;most_frequent&#x27;)</pre></div></div></div><div class=\"sk-item\"><div class=\"sk-estimator sk-toggleable\"><input class=\"sk-toggleable__control sk-hidden--visually\" id=\"sk-estimator-id-86\" type=\"checkbox\" ><label for=\"sk-estimator-id-86\" class=\"sk-toggleable__label sk-toggleable__label-arrow\">OneHotEncoder</label><div class=\"sk-toggleable__content\"><pre>OneHotEncoder(handle_unknown=&#x27;ignore&#x27;, sparse=False, sparse_output=False)</pre></div></div></div></div></div></div></div></div></div></div></div></div>"
      ],
      "text/plain": [
       "ColumnTransformer(transformers=[('cat_ord',\n",
       "                                 Pipeline(steps=[('imputer_1',\n",
       "                                                  SimpleImputer(strategy='most_frequent'))]),\n",
       "                                 ['Married', 'Education', 'Credit_History']),\n",
       "                                ('cat_ohe',\n",
       "                                 Pipeline(steps=[('imputer_2',\n",
       "                                                  SimpleImputer(strategy='most_frequent')),\n",
       "                                                 ('ohe_enc',\n",
       "                                                  OneHotEncoder(handle_unknown='ignore',\n",
       "                                                                sparse=False,\n",
       "                                                                sparse_output=False))]),\n",
       "                                 ['Property_Area'])])"
      ]
     },
     "execution_count": 161,
     "metadata": {},
     "output_type": "execute_result"
    }
   ],
   "source": [
    "full_pipeline"
   ]
  },
  {
   "cell_type": "code",
   "execution_count": 48,
   "metadata": {},
   "outputs": [
    {
     "data": {
      "text/plain": [
       "array([[1., 1., 1., 1., 0., 0.],\n",
       "       [1., 1., 1., 0., 1., 0.],\n",
       "       [0., 0., 1., 0., 1., 0.],\n",
       "       [0., 0., 1., 1., 0., 0.],\n",
       "       [1., 0., 1., 0., 1., 0.],\n",
       "       [0., 1., 0., 0., 1., 0.],\n",
       "       [1., 0., 1., 0., 1., 0.],\n",
       "       [0., 1., 1., 0., 1., 0.],\n",
       "       [1., 1., 0., 1., 0., 0.],\n",
       "       [1., 1., 1., 1., 0., 0.],\n",
       "       [0., 1., 1., 1., 0., 0.],\n",
       "       [1., 1., 1., 0., 1., 0.],\n",
       "       [0., 1., 1., 1., 0., 0.],\n",
       "       [1., 1., 1., 0., 0., 1.],\n",
       "       [0., 1., 1., 0., 1., 0.],\n",
       "       [1., 1., 1., 0., 1., 0.],\n",
       "       [1., 1., 1., 1., 0., 0.],\n",
       "       [0., 1., 1., 0., 0., 1.],\n",
       "       [1., 1., 1., 0., 1., 0.],\n",
       "       [1., 1., 1., 0., 1., 0.],\n",
       "       [1., 1., 0., 0., 0., 1.],\n",
       "       [0., 1., 1., 0., 0., 1.],\n",
       "       [1., 1., 1., 0., 1., 0.],\n",
       "       [1., 1., 1., 0., 0., 1.],\n",
       "       [0., 1., 1., 0., 1., 0.],\n",
       "       [0., 0., 1., 1., 0., 0.],\n",
       "       [1., 1., 1., 0., 1., 0.],\n",
       "       [1., 1., 1., 1., 0., 0.],\n",
       "       [1., 0., 1., 1., 0., 0.],\n",
       "       [1., 1., 1., 0., 1., 0.],\n",
       "       [0., 1., 1., 0., 0., 1.],\n",
       "       [0., 1., 1., 0., 1., 0.],\n",
       "       [0., 0., 1., 0., 1., 0.],\n",
       "       [1., 1., 1., 0., 1., 0.],\n",
       "       [1., 0., 1., 0., 0., 1.],\n",
       "       [1., 1., 1., 0., 1., 0.],\n",
       "       [0., 1., 1., 1., 0., 0.],\n",
       "       [1., 1., 0., 0., 0., 1.],\n",
       "       [1., 1., 1., 0., 0., 1.],\n",
       "       [1., 1., 1., 0., 1., 0.],\n",
       "       [1., 1., 0., 1., 0., 0.],\n",
       "       [1., 1., 0., 1., 0., 0.],\n",
       "       [1., 1., 1., 0., 1., 0.],\n",
       "       [0., 0., 1., 1., 0., 0.],\n",
       "       [1., 1., 1., 0., 1., 0.],\n",
       "       [1., 1., 1., 1., 0., 0.],\n",
       "       [1., 1., 0., 0., 1., 0.],\n",
       "       [1., 0., 1., 0., 1., 0.],\n",
       "       [1., 0., 0., 0., 1., 0.],\n",
       "       [1., 1., 1., 0., 0., 1.],\n",
       "       [1., 1., 1., 1., 0., 0.],\n",
       "       [1., 1., 1., 1., 0., 0.],\n",
       "       [0., 0., 1., 0., 1., 0.],\n",
       "       [0., 1., 1., 0., 0., 1.],\n",
       "       [1., 1., 1., 1., 0., 0.],\n",
       "       [1., 1., 1., 0., 0., 1.],\n",
       "       [1., 0., 1., 0., 1., 0.],\n",
       "       [1., 1., 1., 0., 0., 1.],\n",
       "       [1., 1., 1., 0., 0., 1.],\n",
       "       [0., 1., 1., 1., 0., 0.],\n",
       "       [0., 1., 1., 1., 0., 0.],\n",
       "       [1., 1., 1., 1., 0., 0.],\n",
       "       [0., 1., 1., 1., 0., 0.],\n",
       "       [1., 1., 1., 0., 0., 1.],\n",
       "       [1., 1., 1., 0., 1., 0.],\n",
       "       [1., 0., 1., 1., 0., 0.],\n",
       "       [0., 1., 1., 0., 1., 0.],\n",
       "       [1., 1., 1., 0., 0., 1.],\n",
       "       [0., 1., 1., 1., 0., 0.],\n",
       "       [1., 1., 0., 0., 0., 1.],\n",
       "       [1., 1., 1., 0., 0., 1.],\n",
       "       [1., 1., 1., 1., 0., 0.],\n",
       "       [1., 0., 1., 1., 0., 0.],\n",
       "       [1., 1., 1., 0., 1., 0.],\n",
       "       [1., 1., 1., 0., 0., 1.],\n",
       "       [1., 1., 1., 0., 0., 1.],\n",
       "       [1., 1., 1., 1., 0., 0.],\n",
       "       [0., 1., 1., 0., 1., 0.],\n",
       "       [1., 1., 1., 0., 1., 0.],\n",
       "       [1., 1., 1., 1., 0., 0.],\n",
       "       [1., 1., 0., 0., 1., 0.],\n",
       "       [1., 1., 1., 1., 0., 0.],\n",
       "       [1., 1., 1., 0., 0., 1.],\n",
       "       [0., 1., 0., 0., 1., 0.],\n",
       "       [0., 1., 1., 0., 1., 0.],\n",
       "       [0., 1., 1., 0., 0., 1.],\n",
       "       [0., 1., 1., 1., 0., 0.],\n",
       "       [0., 1., 1., 0., 1., 0.],\n",
       "       [0., 1., 1., 0., 1., 0.],\n",
       "       [1., 0., 1., 1., 0., 0.],\n",
       "       [0., 1., 1., 0., 1., 0.],\n",
       "       [0., 1., 1., 1., 0., 0.],\n",
       "       [1., 1., 1., 0., 1., 0.],\n",
       "       [1., 1., 1., 1., 0., 0.],\n",
       "       [1., 1., 0., 1., 0., 0.],\n",
       "       [1., 1., 1., 0., 0., 1.],\n",
       "       [1., 1., 1., 0., 1., 0.],\n",
       "       [0., 1., 1., 1., 0., 0.],\n",
       "       [1., 0., 1., 0., 0., 1.],\n",
       "       [1., 1., 1., 1., 0., 0.],\n",
       "       [1., 1., 1., 1., 0., 0.],\n",
       "       [0., 1., 1., 0., 0., 1.],\n",
       "       [1., 1., 1., 0., 0., 1.],\n",
       "       [1., 1., 1., 1., 0., 0.],\n",
       "       [0., 1., 1., 1., 0., 0.],\n",
       "       [1., 1., 1., 0., 1., 0.],\n",
       "       [1., 1., 1., 0., 0., 1.],\n",
       "       [1., 1., 1., 0., 1., 0.],\n",
       "       [1., 1., 1., 1., 0., 0.],\n",
       "       [0., 1., 1., 0., 1., 0.],\n",
       "       [1., 1., 0., 1., 0., 0.],\n",
       "       [0., 1., 1., 0., 1., 0.],\n",
       "       [0., 1., 1., 0., 1., 0.],\n",
       "       [1., 1., 1., 0., 1., 0.],\n",
       "       [0., 1., 0., 0., 0., 1.],\n",
       "       [1., 0., 1., 0., 1., 0.],\n",
       "       [1., 1., 1., 1., 0., 0.],\n",
       "       [1., 0., 1., 1., 0., 0.],\n",
       "       [0., 1., 1., 1., 0., 0.],\n",
       "       [0., 1., 1., 0., 0., 1.],\n",
       "       [1., 1., 0., 1., 0., 0.],\n",
       "       [1., 0., 1., 0., 0., 1.],\n",
       "       [1., 1., 1., 1., 0., 0.]])"
      ]
     },
     "execution_count": 48,
     "metadata": {},
     "output_type": "execute_result"
    }
   ],
   "source": [
    "# Melihat hasil pipeline test\n",
    "test_tr = full_pipeline.transform(X_test)\n",
    "test_tr"
   ]
  },
  {
   "cell_type": "code",
   "execution_count": 49,
   "metadata": {},
   "outputs": [
    {
     "data": {
      "text/plain": [
       "1    337\n",
       "0    154\n",
       "Name: Loan_Status, dtype: int64"
      ]
     },
     "execution_count": 49,
     "metadata": {},
     "output_type": "execute_result"
    }
   ],
   "source": [
    "# Mengecek apakah data pada target balance\n",
    "y_train.value_counts()"
   ]
  },
  {
   "cell_type": "markdown",
   "metadata": {},
   "source": [
    "Karena persebaran data pada kolom default_payment tidak seimbang, maka dilakukan handling imbalance data dengan menggunakan SMOTENC"
   ]
  },
  {
   "cell_type": "code",
   "execution_count": 110,
   "metadata": {},
   "outputs": [
    {
     "data": {
      "text/plain": [
       "1    337\n",
       "0    337\n",
       "Name: Loan_Status, dtype: int64"
      ]
     },
     "execution_count": 110,
     "metadata": {},
     "output_type": "execute_result"
    }
   ],
   "source": [
    "# Melakukan smotenc untuk membubat data menjadi balance\n",
    "smotenc = SMOTENC([1,2,3], random_state = 27)\n",
    "x_train_balanced, y_train_balanced = smotenc.fit_resample(train_tr, y_train)\n",
    "y_train_balanced.value_counts()"
   ]
  },
  {
   "cell_type": "markdown",
   "metadata": {},
   "source": [
    "## VI. Model Definition"
   ]
  },
  {
   "cell_type": "code",
   "execution_count": 111,
   "metadata": {},
   "outputs": [],
   "source": [
    "knn = KNeighborsClassifier()\n",
    "svm = SVC()\n",
    "dtc = DecisionTreeClassifier()\n",
    "rfc = RandomForestClassifier()\n",
    "model_boost = AdaBoostClassifier()"
   ]
  },
  {
   "cell_type": "code",
   "execution_count": 112,
   "metadata": {},
   "outputs": [
    {
     "name": "stdout",
     "output_type": "stream",
     "text": [
      "              precision    recall  f1-score   support\n",
      "\n",
      "           0       0.83      0.53      0.64       337\n",
      "           1       0.65      0.90      0.76       337\n",
      "\n",
      "    accuracy                           0.71       674\n",
      "   macro avg       0.74      0.71      0.70       674\n",
      "weighted avg       0.74      0.71      0.70       674\n",
      "\n",
      "              precision    recall  f1-score   support\n",
      "\n",
      "           0       0.57      0.42      0.48        38\n",
      "           1       0.77      0.86      0.81        85\n",
      "\n",
      "    accuracy                           0.72       123\n",
      "   macro avg       0.67      0.64      0.65       123\n",
      "weighted avg       0.71      0.72      0.71       123\n",
      "\n"
     ]
    }
   ],
   "source": [
    "# Melakukan fitting pada knn\n",
    "knn.fit(x_train_balanced,  y_train_balanced)\n",
    "\n",
    "knn_train = knn.predict(x_train_balanced)\n",
    "knn_test = knn.predict(test_tr)\n",
    "\n",
    "print(classification_report( y_train_balanced, knn_train))\n",
    "print(classification_report(y_test, knn_test))"
   ]
  },
  {
   "cell_type": "code",
   "execution_count": 113,
   "metadata": {},
   "outputs": [
    {
     "name": "stdout",
     "output_type": "stream",
     "text": [
      "              precision    recall  f1-score   support\n",
      "\n",
      "           0       0.79      0.66      0.72       337\n",
      "           1       0.70      0.82      0.76       337\n",
      "\n",
      "    accuracy                           0.74       674\n",
      "   macro avg       0.75      0.74      0.74       674\n",
      "weighted avg       0.75      0.74      0.74       674\n",
      "\n",
      "              precision    recall  f1-score   support\n",
      "\n",
      "           0       0.57      0.45      0.50        38\n",
      "           1       0.77      0.85      0.81        85\n",
      "\n",
      "    accuracy                           0.72       123\n",
      "   macro avg       0.67      0.65      0.65       123\n",
      "weighted avg       0.71      0.72      0.71       123\n",
      "\n"
     ]
    }
   ],
   "source": [
    "# Melakukan fitting pada svm\n",
    "svm.fit(x_train_balanced,  y_train_balanced)\n",
    "\n",
    "svc_train = svm.predict(x_train_balanced)\n",
    "svc_test = svm.predict(test_tr)\n",
    "\n",
    "print(classification_report( y_train_balanced, svc_train))\n",
    "print(classification_report(y_test, svc_test))"
   ]
  },
  {
   "cell_type": "code",
   "execution_count": 114,
   "metadata": {},
   "outputs": [
    {
     "name": "stdout",
     "output_type": "stream",
     "text": [
      "              precision    recall  f1-score   support\n",
      "\n",
      "           0       0.75      0.71      0.73       337\n",
      "           1       0.73      0.77      0.75       337\n",
      "\n",
      "    accuracy                           0.74       674\n",
      "   macro avg       0.74      0.74      0.74       674\n",
      "weighted avg       0.74      0.74      0.74       674\n",
      "\n",
      "              precision    recall  f1-score   support\n",
      "\n",
      "           0       0.50      0.55      0.53        38\n",
      "           1       0.79      0.75      0.77        85\n",
      "\n",
      "    accuracy                           0.69       123\n",
      "   macro avg       0.65      0.65      0.65       123\n",
      "weighted avg       0.70      0.69      0.70       123\n",
      "\n"
     ]
    }
   ],
   "source": [
    "# Melakukan fitting pada DecisionTree\n",
    "dtc.fit(x_train_balanced,  y_train_balanced)\n",
    "\n",
    "dtc_train = dtc.predict(x_train_balanced)\n",
    "dtc_test = dtc.predict(test_tr)\n",
    "\n",
    "print(classification_report( y_train_balanced, dtc_train))\n",
    "print(classification_report(y_test, dtc_test))"
   ]
  },
  {
   "cell_type": "code",
   "execution_count": 115,
   "metadata": {},
   "outputs": [
    {
     "name": "stdout",
     "output_type": "stream",
     "text": [
      "              precision    recall  f1-score   support\n",
      "\n",
      "           0       0.75      0.71      0.73       337\n",
      "           1       0.73      0.77      0.75       337\n",
      "\n",
      "    accuracy                           0.74       674\n",
      "   macro avg       0.74      0.74      0.74       674\n",
      "weighted avg       0.74      0.74      0.74       674\n",
      "\n",
      "              precision    recall  f1-score   support\n",
      "\n",
      "           0       0.50      0.55      0.53        38\n",
      "           1       0.79      0.75      0.77        85\n",
      "\n",
      "    accuracy                           0.69       123\n",
      "   macro avg       0.65      0.65      0.65       123\n",
      "weighted avg       0.70      0.69      0.70       123\n",
      "\n"
     ]
    }
   ],
   "source": [
    "# Melakukan fitting pada RandomForest\n",
    "rfc.fit(x_train_balanced,  y_train_balanced)\n",
    "\n",
    "rfc_train = rfc.predict(x_train_balanced)\n",
    "rfc_test = rfc.predict(test_tr)\n",
    "\n",
    "print(classification_report( y_train_balanced, rfc_train))\n",
    "print(classification_report(y_test, rfc_test))"
   ]
  },
  {
   "cell_type": "code",
   "execution_count": 116,
   "metadata": {},
   "outputs": [
    {
     "name": "stdout",
     "output_type": "stream",
     "text": [
      "              precision    recall  f1-score   support\n",
      "\n",
      "           0       0.77      0.67      0.72       337\n",
      "           1       0.71      0.80      0.75       337\n",
      "\n",
      "    accuracy                           0.74       674\n",
      "   macro avg       0.74      0.74      0.73       674\n",
      "weighted avg       0.74      0.74      0.73       674\n",
      "\n",
      "              precision    recall  f1-score   support\n",
      "\n",
      "           0       0.54      0.53      0.53        38\n",
      "           1       0.79      0.80      0.80        85\n",
      "\n",
      "    accuracy                           0.72       123\n",
      "   macro avg       0.67      0.66      0.66       123\n",
      "weighted avg       0.71      0.72      0.71       123\n",
      "\n"
     ]
    }
   ],
   "source": [
    "# Melakukan fitting pada model ADA boost\n",
    "model_boost.fit(x_train_balanced,  y_train_balanced)\n",
    "\n",
    "model_boost_train = model_boost.predict(x_train_balanced)\n",
    "model_boost_test = model_boost.predict(test_tr)\n",
    "\n",
    "print(classification_report( y_train_balanced, model_boost_train))\n",
    "print(classification_report(y_test, model_boost_test))"
   ]
  },
  {
   "cell_type": "markdown",
   "metadata": {},
   "source": [
    "Pada model ini, digunakan f1-score sebagai acuan penilaian, karena menurut saya recall dan precision sama-sama penting di kasus ini. Berdasarkan hasil test, model KNN merupakan model terbaik untuk selanjutnya digunakan pada model training. Untuk memastikan model mana yang paling baik akan dilakukan pengujian Cross Validation."
   ]
  },
  {
   "cell_type": "markdown",
   "metadata": {},
   "source": [
    "### Cross Validation"
   ]
  },
  {
   "cell_type": "markdown",
   "metadata": {},
   "source": [
    "K-Nearest Neighbor"
   ]
  },
  {
   "cell_type": "code",
   "execution_count": 117,
   "metadata": {},
   "outputs": [
    {
     "name": "stdout",
     "output_type": "stream",
     "text": [
      "F1 Score - All - Cross Validation  :  [0.77011494 0.70344828 0.75       0.73202614 0.79220779]\n",
      "F1 Score - Mean - Cross Validation :  0.7495594308778892\n",
      "F1 Score - Std - Cross Validation  :  0.030578622132054843\n",
      "F1 Score - Range of Test-Set       :  0.7189808087458344 - 0.7801380530099441\n",
      "CPU times: total: 78.1 ms\n",
      "Wall time: 96.3 ms\n"
     ]
    }
   ],
   "source": [
    "%%time\n",
    "from sklearn.model_selection import cross_val_score\n",
    "\n",
    "f1_train_cross_val = cross_val_score(knn,\n",
    "                                     x_train_balanced,\n",
    "                                      y_train_balanced,\n",
    "                                     cv=5,\n",
    "                                     scoring=\"f1\")\n",
    "\n",
    "print('F1 Score - All - Cross Validation  : ', f1_train_cross_val)\n",
    "print('F1 Score - Mean - Cross Validation : ', f1_train_cross_val.mean())\n",
    "print('F1 Score - Std - Cross Validation  : ', f1_train_cross_val.std())\n",
    "print('F1 Score - Range of Test-Set       : ', (f1_train_cross_val.mean()-f1_train_cross_val.std()) , '-', (f1_train_cross_val.mean()+f1_train_cross_val.std()))"
   ]
  },
  {
   "cell_type": "markdown",
   "metadata": {},
   "source": [
    "Hasil dari proses Cross Validation pada KNN yaitu:\n",
    "- Mean CV = 0.74, dimana nilai tersebut mendekati angka 1 yang artinya model ini optimal untuk digunakan.\n",
    "- Standar deviasi CV = 0.03, yang artinya model ini merupakan model best fit karena mendekati nilai 0.\n",
    "- Range test = 0.71 - 0.78"
   ]
  },
  {
   "cell_type": "markdown",
   "metadata": {},
   "source": [
    "SVM"
   ]
  },
  {
   "cell_type": "code",
   "execution_count": 118,
   "metadata": {},
   "outputs": [
    {
     "name": "stdout",
     "output_type": "stream",
     "text": [
      "F1 Score - All - Cross Validation  :  [0.75903614 0.72972973 0.73381295 0.78014184 0.69172932]\n",
      "F1 Score - Mean - Cross Validation :  0.7388899982456465\n",
      "F1 Score - Std - Cross Validation  :  0.029804020501373166\n",
      "F1 Score - Range of Test-Set       :  0.7090859777442733 - 0.7686940187470197\n",
      "CPU times: total: 125 ms\n",
      "Wall time: 138 ms\n"
     ]
    }
   ],
   "source": [
    "%%time\n",
    "from sklearn.model_selection import cross_val_score\n",
    "\n",
    "f1_train_cross_val = cross_val_score(svm,\n",
    "                                     x_train_balanced,\n",
    "                                      y_train_balanced,\n",
    "                                     cv=5,\n",
    "                                     scoring=\"f1\")\n",
    "\n",
    "print('F1 Score - All - Cross Validation  : ', f1_train_cross_val)\n",
    "print('F1 Score - Mean - Cross Validation : ', f1_train_cross_val.mean())\n",
    "print('F1 Score - Std - Cross Validation  : ', f1_train_cross_val.std())\n",
    "print('F1 Score - Range of Test-Set       : ', (f1_train_cross_val.mean()-f1_train_cross_val.std()) , '-', (f1_train_cross_val.mean()+f1_train_cross_val.std()))"
   ]
  },
  {
   "cell_type": "markdown",
   "metadata": {},
   "source": [
    "Hasil dari proses Cross Validation pada SVM yaitu:\n",
    "- Mean CV = 0.73, dimana nilai tersebut mendekati angka 1 yang artinya model ini optimal untuk digunakan.\n",
    "- Standar deviasi CV = 0.02, yang artinya model ini merupakan model best fit karena mendekati nilai 0.\n",
    "- Range test = 0.70 - 0.76"
   ]
  },
  {
   "cell_type": "markdown",
   "metadata": {},
   "source": [
    "Decision Tree"
   ]
  },
  {
   "cell_type": "code",
   "execution_count": 119,
   "metadata": {},
   "outputs": [
    {
     "name": "stdout",
     "output_type": "stream",
     "text": [
      "F1 Score - All - Cross Validation  :  [0.76315789 0.72972973 0.73381295 0.78014184 0.69172932]\n",
      "F1 Score - Mean - Cross Validation :  0.7397143482773524\n",
      "F1 Score - Std - Cross Validation  :  0.03040086845275201\n",
      "F1 Score - Range of Test-Set       :  0.7093134798246004 - 0.7701152167301044\n",
      "CPU times: total: 15.6 ms\n",
      "Wall time: 48.1 ms\n"
     ]
    }
   ],
   "source": [
    "%%time\n",
    "from sklearn.model_selection import cross_val_score\n",
    "\n",
    "f1_train_cross_val = cross_val_score(dtc,\n",
    "                                     x_train_balanced,\n",
    "                                      y_train_balanced,\n",
    "                                     cv=5,\n",
    "                                     scoring=\"f1\")\n",
    "\n",
    "print('F1 Score - All - Cross Validation  : ', f1_train_cross_val)\n",
    "print('F1 Score - Mean - Cross Validation : ', f1_train_cross_val.mean())\n",
    "print('F1 Score - Std - Cross Validation  : ', f1_train_cross_val.std())\n",
    "print('F1 Score - Range of Test-Set       : ', (f1_train_cross_val.mean()-f1_train_cross_val.std()) , '-', (f1_train_cross_val.mean()+f1_train_cross_val.std()))"
   ]
  },
  {
   "cell_type": "markdown",
   "metadata": {},
   "source": [
    "Hasil dari proses Cross Validation pada Decision Tree yaitu:\n",
    "- Mean CV = 0.73, dimana nilai tersebut mendekati angka 1 yang artinya model ini optimal untuk digunakan.\n",
    "- Standar deviasi CV = 0.03, yang artinya model ini merupakan model best fit karena mendekati nilai 0.\n",
    "- Range test = 0.70 - 0.77"
   ]
  },
  {
   "cell_type": "markdown",
   "metadata": {},
   "source": [
    "Random Forest"
   ]
  },
  {
   "cell_type": "code",
   "execution_count": 120,
   "metadata": {},
   "outputs": [
    {
     "name": "stdout",
     "output_type": "stream",
     "text": [
      "F1 Score - All - Cross Validation  :  [0.75903614 0.72972973 0.73381295 0.78014184 0.69172932]\n",
      "F1 Score - Mean - Cross Validation :  0.7388899982456465\n",
      "F1 Score - Std - Cross Validation  :  0.029804020501373166\n",
      "F1 Score - Range of Test-Set       :  0.7090859777442733 - 0.7686940187470197\n",
      "CPU times: total: 1 s\n",
      "Wall time: 1.05 s\n"
     ]
    }
   ],
   "source": [
    "%%time\n",
    "from sklearn.model_selection import cross_val_score\n",
    "\n",
    "f1_train_cross_val = cross_val_score(rfc,\n",
    "                                     x_train_balanced,\n",
    "                                      y_train_balanced,\n",
    "                                     cv=5,\n",
    "                                     scoring=\"f1\")\n",
    "\n",
    "print('F1 Score - All - Cross Validation  : ', f1_train_cross_val)\n",
    "print('F1 Score - Mean - Cross Validation : ', f1_train_cross_val.mean())\n",
    "print('F1 Score - Std - Cross Validation  : ', f1_train_cross_val.std())\n",
    "print('F1 Score - Range of Test-Set       : ', (f1_train_cross_val.mean()-f1_train_cross_val.std()) , '-', (f1_train_cross_val.mean()+f1_train_cross_val.std()))"
   ]
  },
  {
   "cell_type": "markdown",
   "metadata": {},
   "source": [
    "Hasil dari proses Cross Validation pada Random Forest yaitu:\n",
    "- Mean CV = 0.73, dimana nilai tersebut mendekati angka 1 yang artinya model ini optimal untuk digunakan.\n",
    "- Standar deviasi CV = 0.02, yang artinya model ini merupakan model best fit karena mendekati nilai 0.\n",
    "- Range test = 0.70 - 0.76"
   ]
  },
  {
   "cell_type": "markdown",
   "metadata": {},
   "source": [
    "ADA Boost"
   ]
  },
  {
   "cell_type": "code",
   "execution_count": 121,
   "metadata": {},
   "outputs": [
    {
     "name": "stdout",
     "output_type": "stream",
     "text": [
      "F1 Score - All - Cross Validation  :  [0.76829268 0.72972973 0.75912409 0.775      0.71428571]\n",
      "F1 Score - Mean - Cross Validation :  0.7492864429067028\n",
      "F1 Score - Std - Cross Validation  :  0.02335259927853264\n",
      "F1 Score - Range of Test-Set       :  0.7259338436281702 - 0.7726390421852354\n",
      "CPU times: total: 625 ms\n",
      "Wall time: 727 ms\n"
     ]
    }
   ],
   "source": [
    "%%time\n",
    "from sklearn.model_selection import cross_val_score\n",
    "\n",
    "f1_train_cross_val = cross_val_score(model_boost,\n",
    "                                     x_train_balanced,\n",
    "                                      y_train_balanced,\n",
    "                                     cv=5,\n",
    "                                     scoring=\"f1\")\n",
    "\n",
    "print('F1 Score - All - Cross Validation  : ', f1_train_cross_val)\n",
    "print('F1 Score - Mean - Cross Validation : ', f1_train_cross_val.mean())\n",
    "print('F1 Score - Std - Cross Validation  : ', f1_train_cross_val.std())\n",
    "print('F1 Score - Range of Test-Set       : ', (f1_train_cross_val.mean()-f1_train_cross_val.std()) , '-', (f1_train_cross_val.mean()+f1_train_cross_val.std()))"
   ]
  },
  {
   "cell_type": "markdown",
   "metadata": {},
   "source": [
    "Hasil dari proses Cross Validation pada ADA Boost yaitu:\n",
    "- Mean CV = 0.74, dimana nilai tersebut mendekati angka 1 yang artinya model ini optimal untuk digunakan.\n",
    "- Standar deviasi CV = 0.02, yang artinya model ini merupakan model best fit karena mendekati nilai 0.\n",
    "- Range test = 0.72 - 0.77"
   ]
  },
  {
   "cell_type": "markdown",
   "metadata": {},
   "source": [
    "Analisa:"
   ]
  },
  {
   "cell_type": "markdown",
   "metadata": {},
   "source": [
    "Dari hasil proses CV, semua model memiliki performa yang bagus. Namun, setelah di analisa, model yang paling bagus merupakan model `KNN`."
   ]
  },
  {
   "cell_type": "markdown",
   "metadata": {},
   "source": [
    "## VII. Model Training"
   ]
  },
  {
   "cell_type": "markdown",
   "metadata": {},
   "source": [
    "Pada model training digunakan hyperparameter tuning randomized search pada model KNN."
   ]
  },
  {
   "cell_type": "code",
   "execution_count": 140,
   "metadata": {},
   "outputs": [],
   "source": [
    "# Mendefinisikan randomized search parameter\n",
    "random_search_knn = {\n",
    "    'n_neighbors': [3, 5, 7, 9],\n",
    "    'weights': ['uniform', 'distance'],\n",
    "    'p': [1, 2]\n",
    "}"
   ]
  },
  {
   "cell_type": "markdown",
   "metadata": {},
   "source": [
    "Pada proses random search digunakan 3 buah parameter, yaitu n_neighbors, weights, dan p."
   ]
  },
  {
   "cell_type": "code",
   "execution_count": 143,
   "metadata": {},
   "outputs": [
    {
     "data": {
      "text/html": [
       "<style>#sk-container-id-14 {color: black;}#sk-container-id-14 pre{padding: 0;}#sk-container-id-14 div.sk-toggleable {background-color: white;}#sk-container-id-14 label.sk-toggleable__label {cursor: pointer;display: block;width: 100%;margin-bottom: 0;padding: 0.3em;box-sizing: border-box;text-align: center;}#sk-container-id-14 label.sk-toggleable__label-arrow:before {content: \"▸\";float: left;margin-right: 0.25em;color: #696969;}#sk-container-id-14 label.sk-toggleable__label-arrow:hover:before {color: black;}#sk-container-id-14 div.sk-estimator:hover label.sk-toggleable__label-arrow:before {color: black;}#sk-container-id-14 div.sk-toggleable__content {max-height: 0;max-width: 0;overflow: hidden;text-align: left;background-color: #f0f8ff;}#sk-container-id-14 div.sk-toggleable__content pre {margin: 0.2em;color: black;border-radius: 0.25em;background-color: #f0f8ff;}#sk-container-id-14 input.sk-toggleable__control:checked~div.sk-toggleable__content {max-height: 200px;max-width: 100%;overflow: auto;}#sk-container-id-14 input.sk-toggleable__control:checked~label.sk-toggleable__label-arrow:before {content: \"▾\";}#sk-container-id-14 div.sk-estimator input.sk-toggleable__control:checked~label.sk-toggleable__label {background-color: #d4ebff;}#sk-container-id-14 div.sk-label input.sk-toggleable__control:checked~label.sk-toggleable__label {background-color: #d4ebff;}#sk-container-id-14 input.sk-hidden--visually {border: 0;clip: rect(1px 1px 1px 1px);clip: rect(1px, 1px, 1px, 1px);height: 1px;margin: -1px;overflow: hidden;padding: 0;position: absolute;width: 1px;}#sk-container-id-14 div.sk-estimator {font-family: monospace;background-color: #f0f8ff;border: 1px dotted black;border-radius: 0.25em;box-sizing: border-box;margin-bottom: 0.5em;}#sk-container-id-14 div.sk-estimator:hover {background-color: #d4ebff;}#sk-container-id-14 div.sk-parallel-item::after {content: \"\";width: 100%;border-bottom: 1px solid gray;flex-grow: 1;}#sk-container-id-14 div.sk-label:hover label.sk-toggleable__label {background-color: #d4ebff;}#sk-container-id-14 div.sk-serial::before {content: \"\";position: absolute;border-left: 1px solid gray;box-sizing: border-box;top: 0;bottom: 0;left: 50%;z-index: 0;}#sk-container-id-14 div.sk-serial {display: flex;flex-direction: column;align-items: center;background-color: white;padding-right: 0.2em;padding-left: 0.2em;position: relative;}#sk-container-id-14 div.sk-item {position: relative;z-index: 1;}#sk-container-id-14 div.sk-parallel {display: flex;align-items: stretch;justify-content: center;background-color: white;position: relative;}#sk-container-id-14 div.sk-item::before, #sk-container-id-14 div.sk-parallel-item::before {content: \"\";position: absolute;border-left: 1px solid gray;box-sizing: border-box;top: 0;bottom: 0;left: 50%;z-index: -1;}#sk-container-id-14 div.sk-parallel-item {display: flex;flex-direction: column;z-index: 1;position: relative;background-color: white;}#sk-container-id-14 div.sk-parallel-item:first-child::after {align-self: flex-end;width: 50%;}#sk-container-id-14 div.sk-parallel-item:last-child::after {align-self: flex-start;width: 50%;}#sk-container-id-14 div.sk-parallel-item:only-child::after {width: 0;}#sk-container-id-14 div.sk-dashed-wrapped {border: 1px dashed gray;margin: 0 0.4em 0.5em 0.4em;box-sizing: border-box;padding-bottom: 0.4em;background-color: white;}#sk-container-id-14 div.sk-label label {font-family: monospace;font-weight: bold;display: inline-block;line-height: 1.2em;}#sk-container-id-14 div.sk-label-container {text-align: center;}#sk-container-id-14 div.sk-container {/* jupyter's `normalize.less` sets `[hidden] { display: none; }` but bootstrap.min.css set `[hidden] { display: none !important; }` so we also need the `!important` here to be able to override the default hidden behavior on the sphinx rendered scikit-learn.org. See: https://github.com/scikit-learn/scikit-learn/issues/21755 */display: inline-block !important;position: relative;}#sk-container-id-14 div.sk-text-repr-fallback {display: none;}</style><div id=\"sk-container-id-14\" class=\"sk-top-container\"><div class=\"sk-text-repr-fallback\"><pre>RandomizedSearchCV(cv=5, estimator=KNeighborsClassifier(), n_iter=100,\n",
       "                   n_jobs=-1,\n",
       "                   param_distributions={&#x27;n_neighbors&#x27;: [3, 5, 7, 9],\n",
       "                                        &#x27;p&#x27;: [1, 2],\n",
       "                                        &#x27;weights&#x27;: [&#x27;uniform&#x27;, &#x27;distance&#x27;]},\n",
       "                   random_state=5, scoring=&#x27;f1&#x27;)</pre><b>In a Jupyter environment, please rerun this cell to show the HTML representation or trust the notebook. <br />On GitHub, the HTML representation is unable to render, please try loading this page with nbviewer.org.</b></div><div class=\"sk-container\" hidden><div class=\"sk-item sk-dashed-wrapped\"><div class=\"sk-label-container\"><div class=\"sk-label sk-toggleable\"><input class=\"sk-toggleable__control sk-hidden--visually\" id=\"sk-estimator-id-48\" type=\"checkbox\" ><label for=\"sk-estimator-id-48\" class=\"sk-toggleable__label sk-toggleable__label-arrow\">RandomizedSearchCV</label><div class=\"sk-toggleable__content\"><pre>RandomizedSearchCV(cv=5, estimator=KNeighborsClassifier(), n_iter=100,\n",
       "                   n_jobs=-1,\n",
       "                   param_distributions={&#x27;n_neighbors&#x27;: [3, 5, 7, 9],\n",
       "                                        &#x27;p&#x27;: [1, 2],\n",
       "                                        &#x27;weights&#x27;: [&#x27;uniform&#x27;, &#x27;distance&#x27;]},\n",
       "                   random_state=5, scoring=&#x27;f1&#x27;)</pre></div></div></div><div class=\"sk-parallel\"><div class=\"sk-parallel-item\"><div class=\"sk-item\"><div class=\"sk-label-container\"><div class=\"sk-label sk-toggleable\"><input class=\"sk-toggleable__control sk-hidden--visually\" id=\"sk-estimator-id-49\" type=\"checkbox\" ><label for=\"sk-estimator-id-49\" class=\"sk-toggleable__label sk-toggleable__label-arrow\">estimator: KNeighborsClassifier</label><div class=\"sk-toggleable__content\"><pre>KNeighborsClassifier()</pre></div></div></div><div class=\"sk-serial\"><div class=\"sk-item\"><div class=\"sk-estimator sk-toggleable\"><input class=\"sk-toggleable__control sk-hidden--visually\" id=\"sk-estimator-id-50\" type=\"checkbox\" ><label for=\"sk-estimator-id-50\" class=\"sk-toggleable__label sk-toggleable__label-arrow\">KNeighborsClassifier</label><div class=\"sk-toggleable__content\"><pre>KNeighborsClassifier()</pre></div></div></div></div></div></div></div></div></div></div>"
      ],
      "text/plain": [
       "RandomizedSearchCV(cv=5, estimator=KNeighborsClassifier(), n_iter=100,\n",
       "                   n_jobs=-1,\n",
       "                   param_distributions={'n_neighbors': [3, 5, 7, 9],\n",
       "                                        'p': [1, 2],\n",
       "                                        'weights': ['uniform', 'distance']},\n",
       "                   random_state=5, scoring='f1')"
      ]
     },
     "execution_count": 143,
     "metadata": {},
     "output_type": "execute_result"
    }
   ],
   "source": [
    "# Melakukan hyperparameter tunning dengan metode random search\n",
    "knn_randomcv = RandomizedSearchCV(estimator=KNeighborsClassifier(),\n",
    "                                 param_distributions=random_search_knn,\n",
    "                                 n_iter=100,\n",
    "                                 cv=5,\n",
    "                                 random_state=5,\n",
    "                                 n_jobs=-1,\n",
    "                                 scoring='f1')\n",
    "knn_randomcv.fit(x_train_balanced,  y_train_balanced)"
   ]
  },
  {
   "cell_type": "code",
   "execution_count": 144,
   "metadata": {},
   "outputs": [
    {
     "name": "stdout",
     "output_type": "stream",
     "text": [
      "mean randomsearch: 0.745971532416622\n",
      "Stdev randomsearch: 0.025461182558710486\n",
      "Best Paramater randomsearch: {'weights': 'uniform', 'p': 1, 'n_neighbors': 9}\n"
     ]
    }
   ],
   "source": [
    "mean_rand = knn_randomcv.cv_results_['mean_test_score'].mean()\n",
    "std_rand = knn_randomcv.cv_results_['mean_test_score'].std()\n",
    "knn_randomcv_best = knn_randomcv.best_params_\n",
    "\n",
    "\n",
    "print(f'mean randomsearch: {mean_rand}')\n",
    "print(f'Stdev randomsearch: {std_rand}')\n",
    "print(f'Best Paramater randomsearch: {knn_randomcv_best}')"
   ]
  },
  {
   "cell_type": "markdown",
   "metadata": {},
   "source": [
    "Mean randomsearch: 0.745971532416622\n",
    "\n",
    "Stdev randomsearch: 0.025461182558710486\n",
    "\n",
    "Best Paramater randomsearch: {'weights': 'uniform', 'p': 1, 'n_neighbors': 9}"
   ]
  },
  {
   "cell_type": "code",
   "execution_count": 145,
   "metadata": {},
   "outputs": [],
   "source": [
    "knn_randomcv_best = knn_randomcv.best_estimator_"
   ]
  },
  {
   "cell_type": "code",
   "execution_count": 146,
   "metadata": {},
   "outputs": [
    {
     "name": "stdout",
     "output_type": "stream",
     "text": [
      "F1 Score - Train Set  :  0.7771156138259833 \n",
      "\n",
      "Classification Report : \n",
      "               precision    recall  f1-score   support\n",
      "\n",
      "           0       0.94      0.48      0.63       337\n",
      "           1       0.65      0.97      0.78       337\n",
      "\n",
      "    accuracy                           0.72       674\n",
      "   macro avg       0.79      0.72      0.70       674\n",
      "weighted avg       0.79      0.72      0.70       674\n",
      " \n",
      "\n",
      "Confusion Matrix      : \n",
      " <sklearn.metrics._plot.confusion_matrix.ConfusionMatrixDisplay object at 0x000001F14C97F700>\n"
     ]
    },
    {
     "data": {
      "image/png": "[encoded data removed]",
      "text/plain": [
       "<Figure size 640x480 with 2 Axes>"
      ]
     },
     "metadata": {},
     "output_type": "display_data"
    }
   ],
   "source": [
    "# Melihat hasil data yang sudah di training dengan metode random search\n",
    "y_pred_train_finals = knn_randomcv_best.predict(x_train_balanced)\n",
    "\n",
    "print('F1 Score - Train Set  : ', f1_score( y_train_balanced, y_pred_train_finals), '\\n')\n",
    "print('Classification Report : \\n', classification_report( y_train_balanced, y_pred_train_finals), '\\n')\n",
    "print('Confusion Matrix      : \\n', ConfusionMatrixDisplay.from_estimator(knn_randomcv, x_train_balanced,  y_train_balanced, cmap='Reds'))"
   ]
  },
  {
   "cell_type": "markdown",
   "metadata": {},
   "source": [
    "Pada train set, nilai F1-score mencapai sekitar 78% serta akurasi mencapai 72%."
   ]
  },
  {
   "cell_type": "code",
   "execution_count": 147,
   "metadata": {},
   "outputs": [
    {
     "name": "stdout",
     "output_type": "stream",
     "text": [
      "F1 Score - Test Set  :  0.8808290155440415 \n",
      "\n",
      "Classification Report : \n",
      "               precision    recall  f1-score   support\n",
      "\n",
      "           0       1.00      0.39      0.57        38\n",
      "           1       0.79      1.00      0.88        85\n",
      "\n",
      "    accuracy                           0.81       123\n",
      "   macro avg       0.89      0.70      0.72       123\n",
      "weighted avg       0.85      0.81      0.78       123\n",
      " \n",
      "\n",
      "Confusion Matrix      : \n",
      " <sklearn.metrics._plot.confusion_matrix.ConfusionMatrixDisplay object at 0x000001F150FD1730>\n"
     ]
    },
    {
     "data": {
      "image/png": "[encoded data removed]",
      "text/plain": [
       "<Figure size 640x480 with 2 Axes>"
      ]
     },
     "metadata": {},
     "output_type": "display_data"
    }
   ],
   "source": [
    "# Melihat hasil data yang sudah di test dengan metode random search\n",
    "y_pred_test_finals = knn_randomcv_best.predict(test_tr)\n",
    "\n",
    "print('F1 Score - Test Set  : ', f1_score(y_test, y_pred_test_finals), '\\n')\n",
    "print('Classification Report : \\n', classification_report(y_test, y_pred_test_finals), '\\n')\n",
    "print('Confusion Matrix      : \\n', ConfusionMatrixDisplay.from_estimator(knn_randomcv_best, test_tr, y_test, cmap='Reds'))"
   ]
  },
  {
   "cell_type": "markdown",
   "metadata": {},
   "source": [
    "Pada test set, nilai F1-score mencapai sekitar 88% serta akurasi mencapai 81%."
   ]
  },
  {
   "cell_type": "markdown",
   "metadata": {},
   "source": [
    "## VIII. Model Evaluation"
   ]
  },
  {
   "cell_type": "code",
   "execution_count": 148,
   "metadata": {},
   "outputs": [
    {
     "data": {
      "text/html": [
       "<div>\n",
       "<style scoped>\n",
       "    .dataframe tbody tr th:only-of-type {\n",
       "        vertical-align: middle;\n",
       "    }\n",
       "\n",
       "    .dataframe tbody tr th {\n",
       "        vertical-align: top;\n",
       "    }\n",
       "\n",
       "    .dataframe thead th {\n",
       "        text-align: right;\n",
       "    }\n",
       "</style>\n",
       "<table border=\"1\" class=\"dataframe\">\n",
       "  <thead>\n",
       "    <tr style=\"text-align: right;\">\n",
       "      <th></th>\n",
       "      <th>Baseline (Default Hyperparameter)</th>\n",
       "    </tr>\n",
       "  </thead>\n",
       "  <tbody>\n",
       "    <tr>\n",
       "      <th>test - accuracy_score</th>\n",
       "      <td>0.723577</td>\n",
       "    </tr>\n",
       "    <tr>\n",
       "      <th>test - f1_score</th>\n",
       "      <td>0.811111</td>\n",
       "    </tr>\n",
       "    <tr>\n",
       "      <th>test - precision</th>\n",
       "      <td>0.768421</td>\n",
       "    </tr>\n",
       "    <tr>\n",
       "      <th>test - recall</th>\n",
       "      <td>0.858824</td>\n",
       "    </tr>\n",
       "    <tr>\n",
       "      <th>train - accuracy</th>\n",
       "      <td>0.710682</td>\n",
       "    </tr>\n",
       "    <tr>\n",
       "      <th>train - f1_score</th>\n",
       "      <td>0.755945</td>\n",
       "    </tr>\n",
       "    <tr>\n",
       "      <th>train - precision</th>\n",
       "      <td>0.653680</td>\n",
       "    </tr>\n",
       "    <tr>\n",
       "      <th>train - recall</th>\n",
       "      <td>0.896142</td>\n",
       "    </tr>\n",
       "  </tbody>\n",
       "</table>\n",
       "</div>"
      ],
      "text/plain": [
       "                       Baseline (Default Hyperparameter)\n",
       "test - accuracy_score                           0.723577\n",
       "test - f1_score                                 0.811111\n",
       "test - precision                                0.768421\n",
       "test - recall                                   0.858824\n",
       "train - accuracy                                0.710682\n",
       "train - f1_score                                0.755945\n",
       "train - precision                               0.653680\n",
       "train - recall                                  0.896142"
      ]
     },
     "execution_count": 148,
     "metadata": {},
     "output_type": "execute_result"
    }
   ],
   "source": [
    "# Membuat table baru default untuk nantinya membandingkan dengan nilai f1 score test yang default dan yang sudah dengan menggunakan random seach\n",
    "all_reports = {}\n",
    "def performance_report(all_reports,  y_train_balanced, knn_train, y_test, knn_test, name):\n",
    "  score_reports = {\n",
    "      'train - precision' : precision_score( y_train_balanced, knn_train),\n",
    "      'train - recall' : recall_score( y_train_balanced, knn_train),\n",
    "      'train - accuracy' : accuracy_score( y_train_balanced, knn_train),\n",
    "      'train - f1_score' : f1_score( y_train_balanced, knn_train),\n",
    "      'test - precision' : precision_score(y_test, knn_test),\n",
    "      'test - recall' : recall_score(y_test, knn_test),\n",
    "      'test - accuracy_score' : accuracy_score(y_test, knn_test),\n",
    "      'test - f1_score' : f1_score(y_test, knn_test),\n",
    "  }\n",
    "  all_reports[name] = score_reports\n",
    "  return all_reports\n",
    "\n",
    "all_reports = performance_report(all_reports, y_train_balanced, knn_train, y_test, knn_test, 'Baseline (Default Hyperparameter)')\n",
    "pd.DataFrame(all_reports)"
   ]
  },
  {
   "cell_type": "markdown",
   "metadata": {},
   "source": [
    "Tabel diatas merupakan baseline hasil dari train serta test."
   ]
  },
  {
   "cell_type": "code",
   "execution_count": 149,
   "metadata": {},
   "outputs": [
    {
     "data": {
      "text/html": [
       "<div>\n",
       "<style scoped>\n",
       "    .dataframe tbody tr th:only-of-type {\n",
       "        vertical-align: middle;\n",
       "    }\n",
       "\n",
       "    .dataframe tbody tr th {\n",
       "        vertical-align: top;\n",
       "    }\n",
       "\n",
       "    .dataframe thead th {\n",
       "        text-align: right;\n",
       "    }\n",
       "</style>\n",
       "<table border=\"1\" class=\"dataframe\">\n",
       "  <thead>\n",
       "    <tr style=\"text-align: right;\">\n",
       "      <th></th>\n",
       "      <th>Baseline (Default Hyperparameter)</th>\n",
       "      <th>Random Search</th>\n",
       "    </tr>\n",
       "  </thead>\n",
       "  <tbody>\n",
       "    <tr>\n",
       "      <th>train - precision</th>\n",
       "      <td>0.653680</td>\n",
       "      <td>0.649402</td>\n",
       "    </tr>\n",
       "    <tr>\n",
       "      <th>train - recall</th>\n",
       "      <td>0.896142</td>\n",
       "      <td>0.967359</td>\n",
       "    </tr>\n",
       "    <tr>\n",
       "      <th>train - accuracy</th>\n",
       "      <td>0.710682</td>\n",
       "      <td>0.722552</td>\n",
       "    </tr>\n",
       "    <tr>\n",
       "      <th>train - f1_score</th>\n",
       "      <td>0.755945</td>\n",
       "      <td>0.777116</td>\n",
       "    </tr>\n",
       "    <tr>\n",
       "      <th>test - precision</th>\n",
       "      <td>0.768421</td>\n",
       "      <td>0.787037</td>\n",
       "    </tr>\n",
       "    <tr>\n",
       "      <th>test - recall</th>\n",
       "      <td>0.858824</td>\n",
       "      <td>1.000000</td>\n",
       "    </tr>\n",
       "    <tr>\n",
       "      <th>test - accuracy_score</th>\n",
       "      <td>0.723577</td>\n",
       "      <td>0.813008</td>\n",
       "    </tr>\n",
       "    <tr>\n",
       "      <th>test - f1_score</th>\n",
       "      <td>0.811111</td>\n",
       "      <td>0.880829</td>\n",
       "    </tr>\n",
       "  </tbody>\n",
       "</table>\n",
       "</div>"
      ],
      "text/plain": [
       "                       Baseline (Default Hyperparameter)  Random Search\n",
       "train - precision                               0.653680       0.649402\n",
       "train - recall                                  0.896142       0.967359\n",
       "train - accuracy                                0.710682       0.722552\n",
       "train - f1_score                                0.755945       0.777116\n",
       "test - precision                                0.768421       0.787037\n",
       "test - recall                                   0.858824       1.000000\n",
       "test - accuracy_score                           0.723577       0.813008\n",
       "test - f1_score                                 0.811111       0.880829"
      ]
     },
     "execution_count": 149,
     "metadata": {},
     "output_type": "execute_result"
    }
   ],
   "source": [
    "# Menampilkan tabel perbandingan nilai dari f1 test yang default dan dengan metode random search\n",
    "all_reports = performance_report(all_reports,  y_train_balanced, y_pred_train_finals, y_test, y_pred_test_finals, 'Random Search')\n",
    "pd.DataFrame(all_reports)"
   ]
  },
  {
   "cell_type": "markdown",
   "metadata": {},
   "source": [
    "Setelah dibandingkan, penggunaan hyperparameter tuning random search memiliki hasil f1_score yang lebih tinggi dibandingkan dengan baseline. Hasil test dari penggunaan hyperparameter tuning memiliki nilai sebesar 0.88 dimana mengalami peningkatan dari yang sebelumnya 0.81. Hasil accuracy nya juga mengalami peningkatan dari 0.72 menjadi 0.81 setelah menggunakan hyperparameter tuning. Model merupakan underfit karena memiliki hasil nilai test yang lebih tinggi dibandingkan dengan hasil nilai train. Dengan hasil ini, digunakan model yang sudah dilakukan hyperparameter tuning untuk proses inference."
   ]
  },
  {
   "cell_type": "code",
   "execution_count": 155,
   "metadata": {},
   "outputs": [
    {
     "data": {
      "text/html": [
       "<style>#sk-container-id-18 {color: black;}#sk-container-id-18 pre{padding: 0;}#sk-container-id-18 div.sk-toggleable {background-color: white;}#sk-container-id-18 label.sk-toggleable__label {cursor: pointer;display: block;width: 100%;margin-bottom: 0;padding: 0.3em;box-sizing: border-box;text-align: center;}#sk-container-id-18 label.sk-toggleable__label-arrow:before {content: \"▸\";float: left;margin-right: 0.25em;color: #696969;}#sk-container-id-18 label.sk-toggleable__label-arrow:hover:before {color: black;}#sk-container-id-18 div.sk-estimator:hover label.sk-toggleable__label-arrow:before {color: black;}#sk-container-id-18 div.sk-toggleable__content {max-height: 0;max-width: 0;overflow: hidden;text-align: left;background-color: #f0f8ff;}#sk-container-id-18 div.sk-toggleable__content pre {margin: 0.2em;color: black;border-radius: 0.25em;background-color: #f0f8ff;}#sk-container-id-18 input.sk-toggleable__control:checked~div.sk-toggleable__content {max-height: 200px;max-width: 100%;overflow: auto;}#sk-container-id-18 input.sk-toggleable__control:checked~label.sk-toggleable__label-arrow:before {content: \"▾\";}#sk-container-id-18 div.sk-estimator input.sk-toggleable__control:checked~label.sk-toggleable__label {background-color: #d4ebff;}#sk-container-id-18 div.sk-label input.sk-toggleable__control:checked~label.sk-toggleable__label {background-color: #d4ebff;}#sk-container-id-18 input.sk-hidden--visually {border: 0;clip: rect(1px 1px 1px 1px);clip: rect(1px, 1px, 1px, 1px);height: 1px;margin: -1px;overflow: hidden;padding: 0;position: absolute;width: 1px;}#sk-container-id-18 div.sk-estimator {font-family: monospace;background-color: #f0f8ff;border: 1px dotted black;border-radius: 0.25em;box-sizing: border-box;margin-bottom: 0.5em;}#sk-container-id-18 div.sk-estimator:hover {background-color: #d4ebff;}#sk-container-id-18 div.sk-parallel-item::after {content: \"\";width: 100%;border-bottom: 1px solid gray;flex-grow: 1;}#sk-container-id-18 div.sk-label:hover label.sk-toggleable__label {background-color: #d4ebff;}#sk-container-id-18 div.sk-serial::before {content: \"\";position: absolute;border-left: 1px solid gray;box-sizing: border-box;top: 0;bottom: 0;left: 50%;z-index: 0;}#sk-container-id-18 div.sk-serial {display: flex;flex-direction: column;align-items: center;background-color: white;padding-right: 0.2em;padding-left: 0.2em;position: relative;}#sk-container-id-18 div.sk-item {position: relative;z-index: 1;}#sk-container-id-18 div.sk-parallel {display: flex;align-items: stretch;justify-content: center;background-color: white;position: relative;}#sk-container-id-18 div.sk-item::before, #sk-container-id-18 div.sk-parallel-item::before {content: \"\";position: absolute;border-left: 1px solid gray;box-sizing: border-box;top: 0;bottom: 0;left: 50%;z-index: -1;}#sk-container-id-18 div.sk-parallel-item {display: flex;flex-direction: column;z-index: 1;position: relative;background-color: white;}#sk-container-id-18 div.sk-parallel-item:first-child::after {align-self: flex-end;width: 50%;}#sk-container-id-18 div.sk-parallel-item:last-child::after {align-self: flex-start;width: 50%;}#sk-container-id-18 div.sk-parallel-item:only-child::after {width: 0;}#sk-container-id-18 div.sk-dashed-wrapped {border: 1px dashed gray;margin: 0 0.4em 0.5em 0.4em;box-sizing: border-box;padding-bottom: 0.4em;background-color: white;}#sk-container-id-18 div.sk-label label {font-family: monospace;font-weight: bold;display: inline-block;line-height: 1.2em;}#sk-container-id-18 div.sk-label-container {text-align: center;}#sk-container-id-18 div.sk-container {/* jupyter's `normalize.less` sets `[hidden] { display: none; }` but bootstrap.min.css set `[hidden] { display: none !important; }` so we also need the `!important` here to be able to override the default hidden behavior on the sphinx rendered scikit-learn.org. See: https://github.com/scikit-learn/scikit-learn/issues/21755 */display: inline-block !important;position: relative;}#sk-container-id-18 div.sk-text-repr-fallback {display: none;}</style><div id=\"sk-container-id-18\" class=\"sk-top-container\"><div class=\"sk-text-repr-fallback\"><pre>ColumnTransformer(transformers=[(&#x27;cat_ord&#x27;,\n",
       "                                 Pipeline(steps=[(&#x27;imputer_1&#x27;,\n",
       "                                                  SimpleImputer(strategy=&#x27;most_frequent&#x27;))]),\n",
       "                                 [&#x27;Married&#x27;, &#x27;Education&#x27;, &#x27;Credit_History&#x27;]),\n",
       "                                (&#x27;cat_ohe&#x27;,\n",
       "                                 Pipeline(steps=[(&#x27;imputer_2&#x27;,\n",
       "                                                  SimpleImputer(strategy=&#x27;most_frequent&#x27;)),\n",
       "                                                 (&#x27;ohe_enc&#x27;,\n",
       "                                                  OneHotEncoder(handle_unknown=&#x27;ignore&#x27;,\n",
       "                                                                sparse=False,\n",
       "                                                                sparse_output=False))]),\n",
       "                                 [&#x27;Property_Area&#x27;])])</pre><b>In a Jupyter environment, please rerun this cell to show the HTML representation or trust the notebook. <br />On GitHub, the HTML representation is unable to render, please try loading this page with nbviewer.org.</b></div><div class=\"sk-container\" hidden><div class=\"sk-item sk-dashed-wrapped\"><div class=\"sk-label-container\"><div class=\"sk-label sk-toggleable\"><input class=\"sk-toggleable__control sk-hidden--visually\" id=\"sk-estimator-id-66\" type=\"checkbox\" ><label for=\"sk-estimator-id-66\" class=\"sk-toggleable__label sk-toggleable__label-arrow\">ColumnTransformer</label><div class=\"sk-toggleable__content\"><pre>ColumnTransformer(transformers=[(&#x27;cat_ord&#x27;,\n",
       "                                 Pipeline(steps=[(&#x27;imputer_1&#x27;,\n",
       "                                                  SimpleImputer(strategy=&#x27;most_frequent&#x27;))]),\n",
       "                                 [&#x27;Married&#x27;, &#x27;Education&#x27;, &#x27;Credit_History&#x27;]),\n",
       "                                (&#x27;cat_ohe&#x27;,\n",
       "                                 Pipeline(steps=[(&#x27;imputer_2&#x27;,\n",
       "                                                  SimpleImputer(strategy=&#x27;most_frequent&#x27;)),\n",
       "                                                 (&#x27;ohe_enc&#x27;,\n",
       "                                                  OneHotEncoder(handle_unknown=&#x27;ignore&#x27;,\n",
       "                                                                sparse=False,\n",
       "                                                                sparse_output=False))]),\n",
       "                                 [&#x27;Property_Area&#x27;])])</pre></div></div></div><div class=\"sk-parallel\"><div class=\"sk-parallel-item\"><div class=\"sk-item\"><div class=\"sk-label-container\"><div class=\"sk-label sk-toggleable\"><input class=\"sk-toggleable__control sk-hidden--visually\" id=\"sk-estimator-id-67\" type=\"checkbox\" ><label for=\"sk-estimator-id-67\" class=\"sk-toggleable__label sk-toggleable__label-arrow\">cat_ord</label><div class=\"sk-toggleable__content\"><pre>[&#x27;Married&#x27;, &#x27;Education&#x27;, &#x27;Credit_History&#x27;]</pre></div></div></div><div class=\"sk-serial\"><div class=\"sk-item\"><div class=\"sk-serial\"><div class=\"sk-item\"><div class=\"sk-estimator sk-toggleable\"><input class=\"sk-toggleable__control sk-hidden--visually\" id=\"sk-estimator-id-68\" type=\"checkbox\" ><label for=\"sk-estimator-id-68\" class=\"sk-toggleable__label sk-toggleable__label-arrow\">SimpleImputer</label><div class=\"sk-toggleable__content\"><pre>SimpleImputer(strategy=&#x27;most_frequent&#x27;)</pre></div></div></div></div></div></div></div></div><div class=\"sk-parallel-item\"><div class=\"sk-item\"><div class=\"sk-label-container\"><div class=\"sk-label sk-toggleable\"><input class=\"sk-toggleable__control sk-hidden--visually\" id=\"sk-estimator-id-69\" type=\"checkbox\" ><label for=\"sk-estimator-id-69\" class=\"sk-toggleable__label sk-toggleable__label-arrow\">cat_ohe</label><div class=\"sk-toggleable__content\"><pre>[&#x27;Property_Area&#x27;]</pre></div></div></div><div class=\"sk-serial\"><div class=\"sk-item\"><div class=\"sk-serial\"><div class=\"sk-item\"><div class=\"sk-estimator sk-toggleable\"><input class=\"sk-toggleable__control sk-hidden--visually\" id=\"sk-estimator-id-70\" type=\"checkbox\" ><label for=\"sk-estimator-id-70\" class=\"sk-toggleable__label sk-toggleable__label-arrow\">SimpleImputer</label><div class=\"sk-toggleable__content\"><pre>SimpleImputer(strategy=&#x27;most_frequent&#x27;)</pre></div></div></div><div class=\"sk-item\"><div class=\"sk-estimator sk-toggleable\"><input class=\"sk-toggleable__control sk-hidden--visually\" id=\"sk-estimator-id-71\" type=\"checkbox\" ><label for=\"sk-estimator-id-71\" class=\"sk-toggleable__label sk-toggleable__label-arrow\">OneHotEncoder</label><div class=\"sk-toggleable__content\"><pre>OneHotEncoder(handle_unknown=&#x27;ignore&#x27;, sparse=False, sparse_output=False)</pre></div></div></div></div></div></div></div></div></div></div></div></div>"
      ],
      "text/plain": [
       "ColumnTransformer(transformers=[('cat_ord',\n",
       "                                 Pipeline(steps=[('imputer_1',\n",
       "                                                  SimpleImputer(strategy='most_frequent'))]),\n",
       "                                 ['Married', 'Education', 'Credit_History']),\n",
       "                                ('cat_ohe',\n",
       "                                 Pipeline(steps=[('imputer_2',\n",
       "                                                  SimpleImputer(strategy='most_frequent')),\n",
       "                                                 ('ohe_enc',\n",
       "                                                  OneHotEncoder(handle_unknown='ignore',\n",
       "                                                                sparse=False,\n",
       "                                                                sparse_output=False))]),\n",
       "                                 ['Property_Area'])])"
      ]
     },
     "execution_count": 155,
     "metadata": {},
     "output_type": "execute_result"
    }
   ],
   "source": [
    "# Melihat pipeline yang sudah dibuat\n",
    "full_pipeline"
   ]
  },
  {
   "cell_type": "code",
   "execution_count": 156,
   "metadata": {},
   "outputs": [
    {
     "data": {
      "text/plain": [
       "{'weights': 'uniform', 'p': 1, 'n_neighbors': 9}"
      ]
     },
     "execution_count": 156,
     "metadata": {},
     "output_type": "execute_result"
    }
   ],
   "source": [
    "knn_randomcv.best_params_"
   ]
  },
  {
   "cell_type": "code",
   "execution_count": 157,
   "metadata": {},
   "outputs": [
    {
     "data": {
      "text/html": [
       "<style>#sk-container-id-19 {color: black;}#sk-container-id-19 pre{padding: 0;}#sk-container-id-19 div.sk-toggleable {background-color: white;}#sk-container-id-19 label.sk-toggleable__label {cursor: pointer;display: block;width: 100%;margin-bottom: 0;padding: 0.3em;box-sizing: border-box;text-align: center;}#sk-container-id-19 label.sk-toggleable__label-arrow:before {content: \"▸\";float: left;margin-right: 0.25em;color: #696969;}#sk-container-id-19 label.sk-toggleable__label-arrow:hover:before {color: black;}#sk-container-id-19 div.sk-estimator:hover label.sk-toggleable__label-arrow:before {color: black;}#sk-container-id-19 div.sk-toggleable__content {max-height: 0;max-width: 0;overflow: hidden;text-align: left;background-color: #f0f8ff;}#sk-container-id-19 div.sk-toggleable__content pre {margin: 0.2em;color: black;border-radius: 0.25em;background-color: #f0f8ff;}#sk-container-id-19 input.sk-toggleable__control:checked~div.sk-toggleable__content {max-height: 200px;max-width: 100%;overflow: auto;}#sk-container-id-19 input.sk-toggleable__control:checked~label.sk-toggleable__label-arrow:before {content: \"▾\";}#sk-container-id-19 div.sk-estimator input.sk-toggleable__control:checked~label.sk-toggleable__label {background-color: #d4ebff;}#sk-container-id-19 div.sk-label input.sk-toggleable__control:checked~label.sk-toggleable__label {background-color: #d4ebff;}#sk-container-id-19 input.sk-hidden--visually {border: 0;clip: rect(1px 1px 1px 1px);clip: rect(1px, 1px, 1px, 1px);height: 1px;margin: -1px;overflow: hidden;padding: 0;position: absolute;width: 1px;}#sk-container-id-19 div.sk-estimator {font-family: monospace;background-color: #f0f8ff;border: 1px dotted black;border-radius: 0.25em;box-sizing: border-box;margin-bottom: 0.5em;}#sk-container-id-19 div.sk-estimator:hover {background-color: #d4ebff;}#sk-container-id-19 div.sk-parallel-item::after {content: \"\";width: 100%;border-bottom: 1px solid gray;flex-grow: 1;}#sk-container-id-19 div.sk-label:hover label.sk-toggleable__label {background-color: #d4ebff;}#sk-container-id-19 div.sk-serial::before {content: \"\";position: absolute;border-left: 1px solid gray;box-sizing: border-box;top: 0;bottom: 0;left: 50%;z-index: 0;}#sk-container-id-19 div.sk-serial {display: flex;flex-direction: column;align-items: center;background-color: white;padding-right: 0.2em;padding-left: 0.2em;position: relative;}#sk-container-id-19 div.sk-item {position: relative;z-index: 1;}#sk-container-id-19 div.sk-parallel {display: flex;align-items: stretch;justify-content: center;background-color: white;position: relative;}#sk-container-id-19 div.sk-item::before, #sk-container-id-19 div.sk-parallel-item::before {content: \"\";position: absolute;border-left: 1px solid gray;box-sizing: border-box;top: 0;bottom: 0;left: 50%;z-index: -1;}#sk-container-id-19 div.sk-parallel-item {display: flex;flex-direction: column;z-index: 1;position: relative;background-color: white;}#sk-container-id-19 div.sk-parallel-item:first-child::after {align-self: flex-end;width: 50%;}#sk-container-id-19 div.sk-parallel-item:last-child::after {align-self: flex-start;width: 50%;}#sk-container-id-19 div.sk-parallel-item:only-child::after {width: 0;}#sk-container-id-19 div.sk-dashed-wrapped {border: 1px dashed gray;margin: 0 0.4em 0.5em 0.4em;box-sizing: border-box;padding-bottom: 0.4em;background-color: white;}#sk-container-id-19 div.sk-label label {font-family: monospace;font-weight: bold;display: inline-block;line-height: 1.2em;}#sk-container-id-19 div.sk-label-container {text-align: center;}#sk-container-id-19 div.sk-container {/* jupyter's `normalize.less` sets `[hidden] { display: none; }` but bootstrap.min.css set `[hidden] { display: none !important; }` so we also need the `!important` here to be able to override the default hidden behavior on the sphinx rendered scikit-learn.org. See: https://github.com/scikit-learn/scikit-learn/issues/21755 */display: inline-block !important;position: relative;}#sk-container-id-19 div.sk-text-repr-fallback {display: none;}</style><div id=\"sk-container-id-19\" class=\"sk-top-container\"><div class=\"sk-text-repr-fallback\"><pre>KNeighborsClassifier(n_neighbors=9, p=1)</pre><b>In a Jupyter environment, please rerun this cell to show the HTML representation or trust the notebook. <br />On GitHub, the HTML representation is unable to render, please try loading this page with nbviewer.org.</b></div><div class=\"sk-container\" hidden><div class=\"sk-item\"><div class=\"sk-estimator sk-toggleable\"><input class=\"sk-toggleable__control sk-hidden--visually\" id=\"sk-estimator-id-72\" type=\"checkbox\" checked><label for=\"sk-estimator-id-72\" class=\"sk-toggleable__label sk-toggleable__label-arrow\">KNeighborsClassifier</label><div class=\"sk-toggleable__content\"><pre>KNeighborsClassifier(n_neighbors=9, p=1)</pre></div></div></div></div></div>"
      ],
      "text/plain": [
       "KNeighborsClassifier(n_neighbors=9, p=1)"
      ]
     },
     "execution_count": 157,
     "metadata": {},
     "output_type": "execute_result"
    }
   ],
   "source": [
    "# Melakukan fitting pada rfc_model\n",
    "rfc_model = KNeighborsClassifier(weights = 'uniform', p = 1, n_neighbors = 9)\n",
    "rfc_model.fit(x_train_balanced, y_train_balanced)"
   ]
  },
  {
   "cell_type": "code",
   "execution_count": 158,
   "metadata": {},
   "outputs": [
    {
     "data": {
      "text/html": [
       "<style>#sk-container-id-20 {color: black;}#sk-container-id-20 pre{padding: 0;}#sk-container-id-20 div.sk-toggleable {background-color: white;}#sk-container-id-20 label.sk-toggleable__label {cursor: pointer;display: block;width: 100%;margin-bottom: 0;padding: 0.3em;box-sizing: border-box;text-align: center;}#sk-container-id-20 label.sk-toggleable__label-arrow:before {content: \"▸\";float: left;margin-right: 0.25em;color: #696969;}#sk-container-id-20 label.sk-toggleable__label-arrow:hover:before {color: black;}#sk-container-id-20 div.sk-estimator:hover label.sk-toggleable__label-arrow:before {color: black;}#sk-container-id-20 div.sk-toggleable__content {max-height: 0;max-width: 0;overflow: hidden;text-align: left;background-color: #f0f8ff;}#sk-container-id-20 div.sk-toggleable__content pre {margin: 0.2em;color: black;border-radius: 0.25em;background-color: #f0f8ff;}#sk-container-id-20 input.sk-toggleable__control:checked~div.sk-toggleable__content {max-height: 200px;max-width: 100%;overflow: auto;}#sk-container-id-20 input.sk-toggleable__control:checked~label.sk-toggleable__label-arrow:before {content: \"▾\";}#sk-container-id-20 div.sk-estimator input.sk-toggleable__control:checked~label.sk-toggleable__label {background-color: #d4ebff;}#sk-container-id-20 div.sk-label input.sk-toggleable__control:checked~label.sk-toggleable__label {background-color: #d4ebff;}#sk-container-id-20 input.sk-hidden--visually {border: 0;clip: rect(1px 1px 1px 1px);clip: rect(1px, 1px, 1px, 1px);height: 1px;margin: -1px;overflow: hidden;padding: 0;position: absolute;width: 1px;}#sk-container-id-20 div.sk-estimator {font-family: monospace;background-color: #f0f8ff;border: 1px dotted black;border-radius: 0.25em;box-sizing: border-box;margin-bottom: 0.5em;}#sk-container-id-20 div.sk-estimator:hover {background-color: #d4ebff;}#sk-container-id-20 div.sk-parallel-item::after {content: \"\";width: 100%;border-bottom: 1px solid gray;flex-grow: 1;}#sk-container-id-20 div.sk-label:hover label.sk-toggleable__label {background-color: #d4ebff;}#sk-container-id-20 div.sk-serial::before {content: \"\";position: absolute;border-left: 1px solid gray;box-sizing: border-box;top: 0;bottom: 0;left: 50%;z-index: 0;}#sk-container-id-20 div.sk-serial {display: flex;flex-direction: column;align-items: center;background-color: white;padding-right: 0.2em;padding-left: 0.2em;position: relative;}#sk-container-id-20 div.sk-item {position: relative;z-index: 1;}#sk-container-id-20 div.sk-parallel {display: flex;align-items: stretch;justify-content: center;background-color: white;position: relative;}#sk-container-id-20 div.sk-item::before, #sk-container-id-20 div.sk-parallel-item::before {content: \"\";position: absolute;border-left: 1px solid gray;box-sizing: border-box;top: 0;bottom: 0;left: 50%;z-index: -1;}#sk-container-id-20 div.sk-parallel-item {display: flex;flex-direction: column;z-index: 1;position: relative;background-color: white;}#sk-container-id-20 div.sk-parallel-item:first-child::after {align-self: flex-end;width: 50%;}#sk-container-id-20 div.sk-parallel-item:last-child::after {align-self: flex-start;width: 50%;}#sk-container-id-20 div.sk-parallel-item:only-child::after {width: 0;}#sk-container-id-20 div.sk-dashed-wrapped {border: 1px dashed gray;margin: 0 0.4em 0.5em 0.4em;box-sizing: border-box;padding-bottom: 0.4em;background-color: white;}#sk-container-id-20 div.sk-label label {font-family: monospace;font-weight: bold;display: inline-block;line-height: 1.2em;}#sk-container-id-20 div.sk-label-container {text-align: center;}#sk-container-id-20 div.sk-container {/* jupyter's `normalize.less` sets `[hidden] { display: none; }` but bootstrap.min.css set `[hidden] { display: none !important; }` so we also need the `!important` here to be able to override the default hidden behavior on the sphinx rendered scikit-learn.org. See: https://github.com/scikit-learn/scikit-learn/issues/21755 */display: inline-block !important;position: relative;}#sk-container-id-20 div.sk-text-repr-fallback {display: none;}</style><div id=\"sk-container-id-20\" class=\"sk-top-container\"><div class=\"sk-text-repr-fallback\"><pre>Pipeline(steps=[(&#x27;preprocess&#x27;,\n",
       "                 ColumnTransformer(transformers=[(&#x27;cat_ord&#x27;,\n",
       "                                                  Pipeline(steps=[(&#x27;imputer_1&#x27;,\n",
       "                                                                   SimpleImputer(strategy=&#x27;most_frequent&#x27;))]),\n",
       "                                                  [&#x27;Married&#x27;, &#x27;Education&#x27;,\n",
       "                                                   &#x27;Credit_History&#x27;]),\n",
       "                                                 (&#x27;cat_ohe&#x27;,\n",
       "                                                  Pipeline(steps=[(&#x27;imputer_2&#x27;,\n",
       "                                                                   SimpleImputer(strategy=&#x27;most_frequent&#x27;)),\n",
       "                                                                  (&#x27;ohe_enc&#x27;,\n",
       "                                                                   OneHotEncoder(handle_unknown=&#x27;ignore&#x27;,\n",
       "                                                                                 sparse=False,\n",
       "                                                                                 sparse_output=False))]),\n",
       "                                                  [&#x27;Property_Area&#x27;])])),\n",
       "                (&#x27;classification&#x27;, KNeighborsClassifier(n_neighbors=9, p=1))])</pre><b>In a Jupyter environment, please rerun this cell to show the HTML representation or trust the notebook. <br />On GitHub, the HTML representation is unable to render, please try loading this page with nbviewer.org.</b></div><div class=\"sk-container\" hidden><div class=\"sk-item sk-dashed-wrapped\"><div class=\"sk-label-container\"><div class=\"sk-label sk-toggleable\"><input class=\"sk-toggleable__control sk-hidden--visually\" id=\"sk-estimator-id-73\" type=\"checkbox\" ><label for=\"sk-estimator-id-73\" class=\"sk-toggleable__label sk-toggleable__label-arrow\">Pipeline</label><div class=\"sk-toggleable__content\"><pre>Pipeline(steps=[(&#x27;preprocess&#x27;,\n",
       "                 ColumnTransformer(transformers=[(&#x27;cat_ord&#x27;,\n",
       "                                                  Pipeline(steps=[(&#x27;imputer_1&#x27;,\n",
       "                                                                   SimpleImputer(strategy=&#x27;most_frequent&#x27;))]),\n",
       "                                                  [&#x27;Married&#x27;, &#x27;Education&#x27;,\n",
       "                                                   &#x27;Credit_History&#x27;]),\n",
       "                                                 (&#x27;cat_ohe&#x27;,\n",
       "                                                  Pipeline(steps=[(&#x27;imputer_2&#x27;,\n",
       "                                                                   SimpleImputer(strategy=&#x27;most_frequent&#x27;)),\n",
       "                                                                  (&#x27;ohe_enc&#x27;,\n",
       "                                                                   OneHotEncoder(handle_unknown=&#x27;ignore&#x27;,\n",
       "                                                                                 sparse=False,\n",
       "                                                                                 sparse_output=False))]),\n",
       "                                                  [&#x27;Property_Area&#x27;])])),\n",
       "                (&#x27;classification&#x27;, KNeighborsClassifier(n_neighbors=9, p=1))])</pre></div></div></div><div class=\"sk-serial\"><div class=\"sk-item sk-dashed-wrapped\"><div class=\"sk-label-container\"><div class=\"sk-label sk-toggleable\"><input class=\"sk-toggleable__control sk-hidden--visually\" id=\"sk-estimator-id-74\" type=\"checkbox\" ><label for=\"sk-estimator-id-74\" class=\"sk-toggleable__label sk-toggleable__label-arrow\">preprocess: ColumnTransformer</label><div class=\"sk-toggleable__content\"><pre>ColumnTransformer(transformers=[(&#x27;cat_ord&#x27;,\n",
       "                                 Pipeline(steps=[(&#x27;imputer_1&#x27;,\n",
       "                                                  SimpleImputer(strategy=&#x27;most_frequent&#x27;))]),\n",
       "                                 [&#x27;Married&#x27;, &#x27;Education&#x27;, &#x27;Credit_History&#x27;]),\n",
       "                                (&#x27;cat_ohe&#x27;,\n",
       "                                 Pipeline(steps=[(&#x27;imputer_2&#x27;,\n",
       "                                                  SimpleImputer(strategy=&#x27;most_frequent&#x27;)),\n",
       "                                                 (&#x27;ohe_enc&#x27;,\n",
       "                                                  OneHotEncoder(handle_unknown=&#x27;ignore&#x27;,\n",
       "                                                                sparse=False,\n",
       "                                                                sparse_output=False))]),\n",
       "                                 [&#x27;Property_Area&#x27;])])</pre></div></div></div><div class=\"sk-parallel\"><div class=\"sk-parallel-item\"><div class=\"sk-item\"><div class=\"sk-label-container\"><div class=\"sk-label sk-toggleable\"><input class=\"sk-toggleable__control sk-hidden--visually\" id=\"sk-estimator-id-75\" type=\"checkbox\" ><label for=\"sk-estimator-id-75\" class=\"sk-toggleable__label sk-toggleable__label-arrow\">cat_ord</label><div class=\"sk-toggleable__content\"><pre>[&#x27;Married&#x27;, &#x27;Education&#x27;, &#x27;Credit_History&#x27;]</pre></div></div></div><div class=\"sk-serial\"><div class=\"sk-item\"><div class=\"sk-serial\"><div class=\"sk-item\"><div class=\"sk-estimator sk-toggleable\"><input class=\"sk-toggleable__control sk-hidden--visually\" id=\"sk-estimator-id-76\" type=\"checkbox\" ><label for=\"sk-estimator-id-76\" class=\"sk-toggleable__label sk-toggleable__label-arrow\">SimpleImputer</label><div class=\"sk-toggleable__content\"><pre>SimpleImputer(strategy=&#x27;most_frequent&#x27;)</pre></div></div></div></div></div></div></div></div><div class=\"sk-parallel-item\"><div class=\"sk-item\"><div class=\"sk-label-container\"><div class=\"sk-label sk-toggleable\"><input class=\"sk-toggleable__control sk-hidden--visually\" id=\"sk-estimator-id-77\" type=\"checkbox\" ><label for=\"sk-estimator-id-77\" class=\"sk-toggleable__label sk-toggleable__label-arrow\">cat_ohe</label><div class=\"sk-toggleable__content\"><pre>[&#x27;Property_Area&#x27;]</pre></div></div></div><div class=\"sk-serial\"><div class=\"sk-item\"><div class=\"sk-serial\"><div class=\"sk-item\"><div class=\"sk-estimator sk-toggleable\"><input class=\"sk-toggleable__control sk-hidden--visually\" id=\"sk-estimator-id-78\" type=\"checkbox\" ><label for=\"sk-estimator-id-78\" class=\"sk-toggleable__label sk-toggleable__label-arrow\">SimpleImputer</label><div class=\"sk-toggleable__content\"><pre>SimpleImputer(strategy=&#x27;most_frequent&#x27;)</pre></div></div></div><div class=\"sk-item\"><div class=\"sk-estimator sk-toggleable\"><input class=\"sk-toggleable__control sk-hidden--visually\" id=\"sk-estimator-id-79\" type=\"checkbox\" ><label for=\"sk-estimator-id-79\" class=\"sk-toggleable__label sk-toggleable__label-arrow\">OneHotEncoder</label><div class=\"sk-toggleable__content\"><pre>OneHotEncoder(handle_unknown=&#x27;ignore&#x27;, sparse=False, sparse_output=False)</pre></div></div></div></div></div></div></div></div></div></div><div class=\"sk-item\"><div class=\"sk-estimator sk-toggleable\"><input class=\"sk-toggleable__control sk-hidden--visually\" id=\"sk-estimator-id-80\" type=\"checkbox\" ><label for=\"sk-estimator-id-80\" class=\"sk-toggleable__label sk-toggleable__label-arrow\">KNeighborsClassifier</label><div class=\"sk-toggleable__content\"><pre>KNeighborsClassifier(n_neighbors=9, p=1)</pre></div></div></div></div></div></div></div>"
      ],
      "text/plain": [
       "Pipeline(steps=[('preprocess',\n",
       "                 ColumnTransformer(transformers=[('cat_ord',\n",
       "                                                  Pipeline(steps=[('imputer_1',\n",
       "                                                                   SimpleImputer(strategy='most_frequent'))]),\n",
       "                                                  ['Married', 'Education',\n",
       "                                                   'Credit_History']),\n",
       "                                                 ('cat_ohe',\n",
       "                                                  Pipeline(steps=[('imputer_2',\n",
       "                                                                   SimpleImputer(strategy='most_frequent')),\n",
       "                                                                  ('ohe_enc',\n",
       "                                                                   OneHotEncoder(handle_unknown='ignore',\n",
       "                                                                                 sparse=False,\n",
       "                                                                                 sparse_output=False))]),\n",
       "                                                  ['Property_Area'])])),\n",
       "                ('classification', KNeighborsClassifier(n_neighbors=9, p=1))])"
      ]
     },
     "execution_count": 158,
     "metadata": {},
     "output_type": "execute_result"
    }
   ],
   "source": [
    "# Memasukkan model ke dalam pipeline untuk dimasukkan ke dalam data inference selanjutnya\n",
    "full_process = Pipeline([\n",
    "    (\"preprocess\", full_pipeline),\n",
    "    (\"classification\", rfc_model)\n",
    "])\n",
    "\n",
    "full_process"
   ]
  },
  {
   "cell_type": "markdown",
   "metadata": {},
   "source": [
    "## IX. Model Saving"
   ]
  },
  {
   "cell_type": "code",
   "execution_count": 160,
   "metadata": {},
   "outputs": [],
   "source": [
    "# Menyimpan model menggunakan pickle\n",
    "with open('full_process.pkl', 'wb') as file:\n",
    "    pickle.dump((full_process), file)"
   ]
  },
  {
   "cell_type": "markdown",
   "metadata": {},
   "source": [
    "## X. Model Inference"
   ]
  },
  {
   "cell_type": "markdown",
   "metadata": {},
   "source": [
    "Model inference dibuat di file terpisah."
   ]
  },
  {
   "cell_type": "markdown",
   "metadata": {},
   "source": [
    "## XI. Kesimpulan"
   ]
  },
  {
   "cell_type": "markdown",
   "metadata": {},
   "source": [
    "EDA:\n",
    "- User yang berasal dari `pedesaan` memiliki jumlah sebanyak 133 user yang disetujui untuk melakukan pinjaman dan 69 user ditolak. Sedangkan untuk user yang berasal dari `semi perkotaan` memiliki user paling banyak disetujui untuk melakukan pinjaman sebanyak 179 user dan sebanyak 54 user ditolak, paling sedikit dari yang lainnya. User yang berasal dari `perkotaan` terdapat 133 user yang disetujui untuk melakukan pinjaman, dan 69 user ditolak, jumlah yang sama dengan user dari pedesaan.\n",
    "- Lebih banyak user dengan jenis kelamin laki-laki dibandingkan perempuan yang ingin melakukan pinjaman. User dengan jenis kelamin laki-laki memiliki status pinjaman disetujui sebanyak 339, dan sebanyak 150 user ditolak. Sedangkan pada user perempuan terdapat 75 user disetujui untuk melakukan pinjaman, dan 37 user ditolak.\n",
    "- Lebih banyak user yang sudah menikah yang melakukan pinjaman dibandingkan dengan user yang belum pernah menikah. Begitu juga dengan persetujuan meminjam, user yang sudah menikah lebih banyak disetujui untuk melakukan pinjaman dibandingkan dengan yang belum menikah.\n",
    "- Lebih banyak user yang lulus dari dunia pendidikan dibandingkan dengan yang tidak. Dilihat dari jumlah user yang disetujui melakukan pinjaman juga lebih banyak dari user yang lulus dari dunia pendidikan dibandingkan dengan yang tidak, menandakan bahwa edukasi user memiliki pengaruh yang cukup berarti terhadap persetujuan pinjaman seseorang.\n",
    "- Distribusi data tidak normal. Nilai skew pada seluruh data numerikal melebihi 0.5.\n",
    "- Setelah dilakukan seleksi fitur, hanya fitur Married, Education, Credit_History, dan Property_Area saja yang memiliki korelasi terhadap target yaitu Loan_Status.\n",
    "\n",
    "Evaluasi model:\n",
    "- Model KNN merupakan model yang paling bagus dibandingkan dengan model lainnya.\n",
    "- Metriks yang digunakan adalah metriks F-1 score. Hal tersebut dikarenakan false positive dan false negative sama-sama penting pada kasus ini.\n",
    "- Model memiliki kurang data latih yang menyebabkan nilai F-1 score pada data train lebih kecil dibandingkan dengan data test. Karena nilai F-1 score train lebih kecil dari F-1 score test menyebabkan model yang digunakan underfit.\n",
    "- Hasil test dengan menggunakan hyperparameter tuning random search memiliki nilai F-1 score yang lebih tinggi dibandingkan dengan default parameter, sehingga model yang digunakan adalah model yang menggunakan hyperparameter tuning random search.\n",
    "\n",
    "Further improvement:\n",
    "- Dari hasil pemodelan, diperlukan penambahan data latih karena model merupakan underfit. Dikatakan underfit karena hasil test lebih tinggi dibandingkan dengan hasil train.\n",
    "- Mencoba menggunakan Grid Search untuk mencari kombinasi hyperparameter yang optimal.\n",
    "- Menggunakan metode lain dalam menangani data imbalance.\n"
   ]
  }
 ],
 "metadata": {
  "kernelspec": {
   "display_name": "base",
   "language": "python",
   "name": "python3"
  },
  "language_info": {
   "codemirror_mode": {
    "name": "ipython",
    "version": 3
   },
   "file_extension": ".py",
   "mimetype": "text/x-python",
   "name": "python",
   "nbconvert_exporter": "python",
   "pygments_lexer": "ipython3",
   "version": "3.9.17"
  },
  "orig_nbformat": 4
 },
 "nbformat": 4,
 "nbformat_minor": 2
}
